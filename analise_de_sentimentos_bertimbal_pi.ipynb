{
  "cells": [
    {
      "cell_type": "markdown",
      "metadata": {
        "id": "view-in-github",
        "colab_type": "text"
      },
      "source": [
        "<a href=\"https://colab.research.google.com/github/Cleander/analise-de-sentimentos/blob/main/analise_de_sentimentos_bertimbal_pi.ipynb\" target=\"_parent\"><img src=\"https://colab.research.google.com/assets/colab-badge.svg\" alt=\"Open In Colab\"/></a>"
      ]
    },
    {
      "cell_type": "markdown",
      "source": [
        "#Análise de Sentimentos - PI 5"
      ],
      "metadata": {
        "id": "WZV2KoU_4t_0"
      }
    },
    {
      "cell_type": "markdown",
      "source": [
        "##Treinando o Modelo"
      ],
      "metadata": {
        "id": "nzkTk2qD4SCj"
      }
    },
    {
      "cell_type": "code",
      "execution_count": null,
      "metadata": {
        "id": "uIwE2ItxDpiE"
      },
      "outputs": [],
      "source": [
        "pip install transformers datasets torch pandas"
      ]
    },
    {
      "cell_type": "code",
      "execution_count": 2,
      "metadata": {
        "id": "j8mwsLQlDp30",
        "colab": {
          "base_uri": "https://localhost:8080/",
          "height": 224
        },
        "outputId": "c87916e1-99ca-4da5-a77c-75fcec3dbd7f"
      },
      "outputs": [
        {
          "output_type": "execute_result",
          "data": {
            "text/plain": [
              "   original_index                                        review_text  \\\n",
              "0           97262             Perfeito....chegou antes do prazo.....   \n",
              "1           72931  Foi uma ótima compra! Chegou antes mesmo do pr...   \n",
              "2           19659     Recebi muito rapido e um otimo custo beneficio   \n",
              "3           43054                                          Recomendo   \n",
              "4           59202  Só veio uma capa comprei 3 aí paguei. Mais de ...   \n",
              "\n",
              "                               review_text_processed  \\\n",
              "0             perfeito....chegou antes do prazo.....   \n",
              "1  foi uma otima compra! chegou antes mesmo do pr...   \n",
              "2     recebi muito rapido e um otimo custo beneficio   \n",
              "3                                          recomendo   \n",
              "4  so veio uma capa comprei 3 ai paguei. mais de ...   \n",
              "\n",
              "                               review_text_tokenized  polarity  rating  \\\n",
              "0     ['perfeito', 'chegou', 'antes', 'do', 'prazo']       1.0       5   \n",
              "1  ['foi', 'uma', 'otima', 'compra', 'chegou', 'a...       1.0       5   \n",
              "2  ['recebi', 'muito', 'rapido', 'um', 'otimo', '...       1.0       5   \n",
              "3                                      ['recomendo']       1.0       5   \n",
              "4  ['so', 'veio', 'uma', 'capa', 'comprei', 'ai',...       0.0       1   \n",
              "\n",
              "   kfold_polarity  kfold_rating  \n",
              "0               1             1  \n",
              "1               1             1  \n",
              "2               1             1  \n",
              "3               1             1  \n",
              "4               1             1  "
            ],
            "text/html": [
              "\n",
              "  <div id=\"df-337ee544-2041-4aa9-a882-e0e5e453e3a1\" class=\"colab-df-container\">\n",
              "    <div>\n",
              "<style scoped>\n",
              "    .dataframe tbody tr th:only-of-type {\n",
              "        vertical-align: middle;\n",
              "    }\n",
              "\n",
              "    .dataframe tbody tr th {\n",
              "        vertical-align: top;\n",
              "    }\n",
              "\n",
              "    .dataframe thead th {\n",
              "        text-align: right;\n",
              "    }\n",
              "</style>\n",
              "<table border=\"1\" class=\"dataframe\">\n",
              "  <thead>\n",
              "    <tr style=\"text-align: right;\">\n",
              "      <th></th>\n",
              "      <th>original_index</th>\n",
              "      <th>review_text</th>\n",
              "      <th>review_text_processed</th>\n",
              "      <th>review_text_tokenized</th>\n",
              "      <th>polarity</th>\n",
              "      <th>rating</th>\n",
              "      <th>kfold_polarity</th>\n",
              "      <th>kfold_rating</th>\n",
              "    </tr>\n",
              "  </thead>\n",
              "  <tbody>\n",
              "    <tr>\n",
              "      <th>0</th>\n",
              "      <td>97262</td>\n",
              "      <td>Perfeito....chegou antes do prazo.....</td>\n",
              "      <td>perfeito....chegou antes do prazo.....</td>\n",
              "      <td>['perfeito', 'chegou', 'antes', 'do', 'prazo']</td>\n",
              "      <td>1.0</td>\n",
              "      <td>5</td>\n",
              "      <td>1</td>\n",
              "      <td>1</td>\n",
              "    </tr>\n",
              "    <tr>\n",
              "      <th>1</th>\n",
              "      <td>72931</td>\n",
              "      <td>Foi uma ótima compra! Chegou antes mesmo do pr...</td>\n",
              "      <td>foi uma otima compra! chegou antes mesmo do pr...</td>\n",
              "      <td>['foi', 'uma', 'otima', 'compra', 'chegou', 'a...</td>\n",
              "      <td>1.0</td>\n",
              "      <td>5</td>\n",
              "      <td>1</td>\n",
              "      <td>1</td>\n",
              "    </tr>\n",
              "    <tr>\n",
              "      <th>2</th>\n",
              "      <td>19659</td>\n",
              "      <td>Recebi muito rapido e um otimo custo beneficio</td>\n",
              "      <td>recebi muito rapido e um otimo custo beneficio</td>\n",
              "      <td>['recebi', 'muito', 'rapido', 'um', 'otimo', '...</td>\n",
              "      <td>1.0</td>\n",
              "      <td>5</td>\n",
              "      <td>1</td>\n",
              "      <td>1</td>\n",
              "    </tr>\n",
              "    <tr>\n",
              "      <th>3</th>\n",
              "      <td>43054</td>\n",
              "      <td>Recomendo</td>\n",
              "      <td>recomendo</td>\n",
              "      <td>['recomendo']</td>\n",
              "      <td>1.0</td>\n",
              "      <td>5</td>\n",
              "      <td>1</td>\n",
              "      <td>1</td>\n",
              "    </tr>\n",
              "    <tr>\n",
              "      <th>4</th>\n",
              "      <td>59202</td>\n",
              "      <td>Só veio uma capa comprei 3 aí paguei. Mais de ...</td>\n",
              "      <td>so veio uma capa comprei 3 ai paguei. mais de ...</td>\n",
              "      <td>['so', 'veio', 'uma', 'capa', 'comprei', 'ai',...</td>\n",
              "      <td>0.0</td>\n",
              "      <td>1</td>\n",
              "      <td>1</td>\n",
              "      <td>1</td>\n",
              "    </tr>\n",
              "  </tbody>\n",
              "</table>\n",
              "</div>\n",
              "    <div class=\"colab-df-buttons\">\n",
              "\n",
              "  <div class=\"colab-df-container\">\n",
              "    <button class=\"colab-df-convert\" onclick=\"convertToInteractive('df-337ee544-2041-4aa9-a882-e0e5e453e3a1')\"\n",
              "            title=\"Convert this dataframe to an interactive table.\"\n",
              "            style=\"display:none;\">\n",
              "\n",
              "  <svg xmlns=\"http://www.w3.org/2000/svg\" height=\"24px\" viewBox=\"0 -960 960 960\">\n",
              "    <path d=\"M120-120v-720h720v720H120Zm60-500h600v-160H180v160Zm220 220h160v-160H400v160Zm0 220h160v-160H400v160ZM180-400h160v-160H180v160Zm440 0h160v-160H620v160ZM180-180h160v-160H180v160Zm440 0h160v-160H620v160Z\"/>\n",
              "  </svg>\n",
              "    </button>\n",
              "\n",
              "  <style>\n",
              "    .colab-df-container {\n",
              "      display:flex;\n",
              "      gap: 12px;\n",
              "    }\n",
              "\n",
              "    .colab-df-convert {\n",
              "      background-color: #E8F0FE;\n",
              "      border: none;\n",
              "      border-radius: 50%;\n",
              "      cursor: pointer;\n",
              "      display: none;\n",
              "      fill: #1967D2;\n",
              "      height: 32px;\n",
              "      padding: 0 0 0 0;\n",
              "      width: 32px;\n",
              "    }\n",
              "\n",
              "    .colab-df-convert:hover {\n",
              "      background-color: #E2EBFA;\n",
              "      box-shadow: 0px 1px 2px rgba(60, 64, 67, 0.3), 0px 1px 3px 1px rgba(60, 64, 67, 0.15);\n",
              "      fill: #174EA6;\n",
              "    }\n",
              "\n",
              "    .colab-df-buttons div {\n",
              "      margin-bottom: 4px;\n",
              "    }\n",
              "\n",
              "    [theme=dark] .colab-df-convert {\n",
              "      background-color: #3B4455;\n",
              "      fill: #D2E3FC;\n",
              "    }\n",
              "\n",
              "    [theme=dark] .colab-df-convert:hover {\n",
              "      background-color: #434B5C;\n",
              "      box-shadow: 0px 1px 3px 1px rgba(0, 0, 0, 0.15);\n",
              "      filter: drop-shadow(0px 1px 2px rgba(0, 0, 0, 0.3));\n",
              "      fill: #FFFFFF;\n",
              "    }\n",
              "  </style>\n",
              "\n",
              "    <script>\n",
              "      const buttonEl =\n",
              "        document.querySelector('#df-337ee544-2041-4aa9-a882-e0e5e453e3a1 button.colab-df-convert');\n",
              "      buttonEl.style.display =\n",
              "        google.colab.kernel.accessAllowed ? 'block' : 'none';\n",
              "\n",
              "      async function convertToInteractive(key) {\n",
              "        const element = document.querySelector('#df-337ee544-2041-4aa9-a882-e0e5e453e3a1');\n",
              "        const dataTable =\n",
              "          await google.colab.kernel.invokeFunction('convertToInteractive',\n",
              "                                                    [key], {});\n",
              "        if (!dataTable) return;\n",
              "\n",
              "        const docLinkHtml = 'Like what you see? Visit the ' +\n",
              "          '<a target=\"_blank\" href=https://colab.research.google.com/notebooks/data_table.ipynb>data table notebook</a>'\n",
              "          + ' to learn more about interactive tables.';\n",
              "        element.innerHTML = '';\n",
              "        dataTable['output_type'] = 'display_data';\n",
              "        await google.colab.output.renderOutput(dataTable, element);\n",
              "        const docLink = document.createElement('div');\n",
              "        docLink.innerHTML = docLinkHtml;\n",
              "        element.appendChild(docLink);\n",
              "      }\n",
              "    </script>\n",
              "  </div>\n",
              "\n",
              "\n",
              "    <div id=\"df-94d9249e-6ac8-4f0b-8e0b-ba67514d77ee\">\n",
              "      <button class=\"colab-df-quickchart\" onclick=\"quickchart('df-94d9249e-6ac8-4f0b-8e0b-ba67514d77ee')\"\n",
              "                title=\"Suggest charts\"\n",
              "                style=\"display:none;\">\n",
              "\n",
              "<svg xmlns=\"http://www.w3.org/2000/svg\" height=\"24px\"viewBox=\"0 0 24 24\"\n",
              "     width=\"24px\">\n",
              "    <g>\n",
              "        <path d=\"M19 3H5c-1.1 0-2 .9-2 2v14c0 1.1.9 2 2 2h14c1.1 0 2-.9 2-2V5c0-1.1-.9-2-2-2zM9 17H7v-7h2v7zm4 0h-2V7h2v10zm4 0h-2v-4h2v4z\"/>\n",
              "    </g>\n",
              "</svg>\n",
              "      </button>\n",
              "\n",
              "<style>\n",
              "  .colab-df-quickchart {\n",
              "      --bg-color: #E8F0FE;\n",
              "      --fill-color: #1967D2;\n",
              "      --hover-bg-color: #E2EBFA;\n",
              "      --hover-fill-color: #174EA6;\n",
              "      --disabled-fill-color: #AAA;\n",
              "      --disabled-bg-color: #DDD;\n",
              "  }\n",
              "\n",
              "  [theme=dark] .colab-df-quickchart {\n",
              "      --bg-color: #3B4455;\n",
              "      --fill-color: #D2E3FC;\n",
              "      --hover-bg-color: #434B5C;\n",
              "      --hover-fill-color: #FFFFFF;\n",
              "      --disabled-bg-color: #3B4455;\n",
              "      --disabled-fill-color: #666;\n",
              "  }\n",
              "\n",
              "  .colab-df-quickchart {\n",
              "    background-color: var(--bg-color);\n",
              "    border: none;\n",
              "    border-radius: 50%;\n",
              "    cursor: pointer;\n",
              "    display: none;\n",
              "    fill: var(--fill-color);\n",
              "    height: 32px;\n",
              "    padding: 0;\n",
              "    width: 32px;\n",
              "  }\n",
              "\n",
              "  .colab-df-quickchart:hover {\n",
              "    background-color: var(--hover-bg-color);\n",
              "    box-shadow: 0 1px 2px rgba(60, 64, 67, 0.3), 0 1px 3px 1px rgba(60, 64, 67, 0.15);\n",
              "    fill: var(--button-hover-fill-color);\n",
              "  }\n",
              "\n",
              "  .colab-df-quickchart-complete:disabled,\n",
              "  .colab-df-quickchart-complete:disabled:hover {\n",
              "    background-color: var(--disabled-bg-color);\n",
              "    fill: var(--disabled-fill-color);\n",
              "    box-shadow: none;\n",
              "  }\n",
              "\n",
              "  .colab-df-spinner {\n",
              "    border: 2px solid var(--fill-color);\n",
              "    border-color: transparent;\n",
              "    border-bottom-color: var(--fill-color);\n",
              "    animation:\n",
              "      spin 1s steps(1) infinite;\n",
              "  }\n",
              "\n",
              "  @keyframes spin {\n",
              "    0% {\n",
              "      border-color: transparent;\n",
              "      border-bottom-color: var(--fill-color);\n",
              "      border-left-color: var(--fill-color);\n",
              "    }\n",
              "    20% {\n",
              "      border-color: transparent;\n",
              "      border-left-color: var(--fill-color);\n",
              "      border-top-color: var(--fill-color);\n",
              "    }\n",
              "    30% {\n",
              "      border-color: transparent;\n",
              "      border-left-color: var(--fill-color);\n",
              "      border-top-color: var(--fill-color);\n",
              "      border-right-color: var(--fill-color);\n",
              "    }\n",
              "    40% {\n",
              "      border-color: transparent;\n",
              "      border-right-color: var(--fill-color);\n",
              "      border-top-color: var(--fill-color);\n",
              "    }\n",
              "    60% {\n",
              "      border-color: transparent;\n",
              "      border-right-color: var(--fill-color);\n",
              "    }\n",
              "    80% {\n",
              "      border-color: transparent;\n",
              "      border-right-color: var(--fill-color);\n",
              "      border-bottom-color: var(--fill-color);\n",
              "    }\n",
              "    90% {\n",
              "      border-color: transparent;\n",
              "      border-bottom-color: var(--fill-color);\n",
              "    }\n",
              "  }\n",
              "</style>\n",
              "\n",
              "      <script>\n",
              "        async function quickchart(key) {\n",
              "          const quickchartButtonEl =\n",
              "            document.querySelector('#' + key + ' button');\n",
              "          quickchartButtonEl.disabled = true;  // To prevent multiple clicks.\n",
              "          quickchartButtonEl.classList.add('colab-df-spinner');\n",
              "          try {\n",
              "            const charts = await google.colab.kernel.invokeFunction(\n",
              "                'suggestCharts', [key], {});\n",
              "          } catch (error) {\n",
              "            console.error('Error during call to suggestCharts:', error);\n",
              "          }\n",
              "          quickchartButtonEl.classList.remove('colab-df-spinner');\n",
              "          quickchartButtonEl.classList.add('colab-df-quickchart-complete');\n",
              "        }\n",
              "        (() => {\n",
              "          let quickchartButtonEl =\n",
              "            document.querySelector('#df-94d9249e-6ac8-4f0b-8e0b-ba67514d77ee button');\n",
              "          quickchartButtonEl.style.display =\n",
              "            google.colab.kernel.accessAllowed ? 'block' : 'none';\n",
              "        })();\n",
              "      </script>\n",
              "    </div>\n",
              "\n",
              "    </div>\n",
              "  </div>\n"
            ],
            "application/vnd.google.colaboratory.intrinsic+json": {
              "type": "dataframe",
              "variable_name": "df",
              "summary": "{\n  \"name\": \"df\",\n  \"rows\": 41744,\n  \"fields\": [\n    {\n      \"column\": \"original_index\",\n      \"properties\": {\n        \"dtype\": \"number\",\n        \"std\": 28894,\n        \"min\": 3,\n        \"max\": 99999,\n        \"num_unique_values\": 41744,\n        \"samples\": [\n          57902,\n          44445,\n          40301\n        ],\n        \"semantic_type\": \"\",\n        \"description\": \"\"\n      }\n    },\n    {\n      \"column\": \"review_text\",\n      \"properties\": {\n        \"dtype\": \"string\",\n        \"num_unique_values\": 36920,\n        \"samples\": [\n          \"Compra e entrega sem problemas\",\n          \"\\u00d3timo produto entrega r\\u00e1pida \",\n          \"Comprei um atuador de freio para minha maquina...paguei a vista...fiquei quase 20 dias esperando paguei o frete...e quando recebo o produto uma decep\\u00e7\\u00e3o...mandaram produto errado...enviaram uma placa \"\n        ],\n        \"semantic_type\": \"\",\n        \"description\": \"\"\n      }\n    },\n    {\n      \"column\": \"review_text_processed\",\n      \"properties\": {\n        \"dtype\": \"string\",\n        \"num_unique_values\": 36190,\n        \"samples\": [\n          \"chegou rapido, lacrado e bem embalado\",\n          \"produto com qualidade. recomendo a compra, esse e o segundo produto que compro.\",\n          \"chegou antes do esperado e o produto e lindo\"\n        ],\n        \"semantic_type\": \"\",\n        \"description\": \"\"\n      }\n    },\n    {\n      \"column\": \"review_text_tokenized\",\n      \"properties\": {\n        \"dtype\": \"string\",\n        \"num_unique_values\": 33929,\n        \"samples\": [\n          \"['faltou', 'colocar', 'no', 'pedido', 'nome', 'completo', 'deixei', 'endereco', 'de', 'onde', 'trabalho', 'para', 'entrega', 'tem', 'pessoas', 'com', 'mesmo', 'nome']\",\n          \"['produto', 'recebido', 'no', 'prazo']\",\n          \"['entrega', 'bemmm', 'antes', 'do', 'prazo', 'produto', 'entregue', 'conforme', 'anuncio', 'volto', 'comprar', 'com', 'certeza']\"\n        ],\n        \"semantic_type\": \"\",\n        \"description\": \"\"\n      }\n    },\n    {\n      \"column\": \"polarity\",\n      \"properties\": {\n        \"dtype\": \"number\",\n        \"std\": 0.4580834207550929,\n        \"min\": 0.0,\n        \"max\": 1.0,\n        \"num_unique_values\": 2,\n        \"samples\": [\n          0.0,\n          1.0\n        ],\n        \"semantic_type\": \"\",\n        \"description\": \"\"\n      }\n    },\n    {\n      \"column\": \"rating\",\n      \"properties\": {\n        \"dtype\": \"number\",\n        \"std\": 1,\n        \"min\": 1,\n        \"max\": 5,\n        \"num_unique_values\": 5,\n        \"samples\": [\n          1,\n          2\n        ],\n        \"semantic_type\": \"\",\n        \"description\": \"\"\n      }\n    },\n    {\n      \"column\": \"kfold_polarity\",\n      \"properties\": {\n        \"dtype\": \"number\",\n        \"std\": 3,\n        \"min\": -1,\n        \"max\": 10,\n        \"num_unique_values\": 11,\n        \"samples\": [\n          5,\n          1\n        ],\n        \"semantic_type\": \"\",\n        \"description\": \"\"\n      }\n    },\n    {\n      \"column\": \"kfold_rating\",\n      \"properties\": {\n        \"dtype\": \"number\",\n        \"std\": 2,\n        \"min\": 1,\n        \"max\": 10,\n        \"num_unique_values\": 10,\n        \"samples\": [\n          9,\n          2\n        ],\n        \"semantic_type\": \"\",\n        \"description\": \"\"\n      }\n    }\n  ]\n}"
            }
          },
          "metadata": {},
          "execution_count": 2
        }
      ],
      "source": [
        "import pandas as pd\n",
        "\n",
        "df = pd.read_csv('olist.csv')\n",
        "\n",
        "df.head()"
      ]
    },
    {
      "cell_type": "code",
      "execution_count": 3,
      "metadata": {
        "id": "D3c65j4VEfn0",
        "colab": {
          "base_uri": "https://localhost:8080/",
          "height": 335
        },
        "outputId": "fcb8fd2b-b321-4ee7-b9a6-2f1f606e9286"
      },
      "outputs": [
        {
          "output_type": "execute_result",
          "data": {
            "text/plain": [
              "original_index              0\n",
              "review_text                 0\n",
              "review_text_processed       1\n",
              "review_text_tokenized       0\n",
              "polarity                 3665\n",
              "rating                      0\n",
              "kfold_polarity              0\n",
              "kfold_rating                0\n",
              "dtype: int64"
            ],
            "text/html": [
              "<div>\n",
              "<style scoped>\n",
              "    .dataframe tbody tr th:only-of-type {\n",
              "        vertical-align: middle;\n",
              "    }\n",
              "\n",
              "    .dataframe tbody tr th {\n",
              "        vertical-align: top;\n",
              "    }\n",
              "\n",
              "    .dataframe thead th {\n",
              "        text-align: right;\n",
              "    }\n",
              "</style>\n",
              "<table border=\"1\" class=\"dataframe\">\n",
              "  <thead>\n",
              "    <tr style=\"text-align: right;\">\n",
              "      <th></th>\n",
              "      <th>0</th>\n",
              "    </tr>\n",
              "  </thead>\n",
              "  <tbody>\n",
              "    <tr>\n",
              "      <th>original_index</th>\n",
              "      <td>0</td>\n",
              "    </tr>\n",
              "    <tr>\n",
              "      <th>review_text</th>\n",
              "      <td>0</td>\n",
              "    </tr>\n",
              "    <tr>\n",
              "      <th>review_text_processed</th>\n",
              "      <td>1</td>\n",
              "    </tr>\n",
              "    <tr>\n",
              "      <th>review_text_tokenized</th>\n",
              "      <td>0</td>\n",
              "    </tr>\n",
              "    <tr>\n",
              "      <th>polarity</th>\n",
              "      <td>3665</td>\n",
              "    </tr>\n",
              "    <tr>\n",
              "      <th>rating</th>\n",
              "      <td>0</td>\n",
              "    </tr>\n",
              "    <tr>\n",
              "      <th>kfold_polarity</th>\n",
              "      <td>0</td>\n",
              "    </tr>\n",
              "    <tr>\n",
              "      <th>kfold_rating</th>\n",
              "      <td>0</td>\n",
              "    </tr>\n",
              "  </tbody>\n",
              "</table>\n",
              "</div><br><label><b>dtype:</b> int64</label>"
            ]
          },
          "metadata": {},
          "execution_count": 3
        }
      ],
      "source": [
        "df.isnull().sum()"
      ]
    },
    {
      "cell_type": "code",
      "source": [
        "print(f\"Linhas antes da limpeza: {df.shape[0]}\")\n",
        "df = df.dropna(subset=['review_text_tokenized', 'polarity'])\n",
        "print(f\"Linhas após a limpeza: {df.shape[0]}\")"
      ],
      "metadata": {
        "id": "-FR41nKcTpue",
        "colab": {
          "base_uri": "https://localhost:8080/"
        },
        "outputId": "30322828-a087-4a9f-8121-a7b65433d1ab"
      },
      "execution_count": 4,
      "outputs": [
        {
          "output_type": "stream",
          "name": "stdout",
          "text": [
            "Linhas antes da limpeza: 41744\n",
            "Linhas após a limpeza: 38079\n"
          ]
        }
      ]
    },
    {
      "cell_type": "code",
      "execution_count": 5,
      "metadata": {
        "id": "U_zlVPjPEqFU",
        "colab": {
          "base_uri": "https://localhost:8080/"
        },
        "outputId": "4067e612-c5fe-46ac-bd68-0f27de90159f"
      },
      "outputs": [
        {
          "output_type": "stream",
          "name": "stdout",
          "text": [
            "Treinamento: 26656\n",
            "Validação: 3808\n",
            "Teste: 3808\n"
          ]
        }
      ],
      "source": [
        "train_data = df[(df['kfold_polarity'] >= 2) & (df['kfold_polarity'] <= 8)]\n",
        "val_data = df[df['kfold_polarity'] == 9]\n",
        "test_data = df[df['kfold_polarity'] == 1]\n",
        "\n",
        "print(f\"Treinamento: {len(train_data)}\")\n",
        "print(f\"Validação: {len(val_data)}\")\n",
        "print(f\"Teste: {len(test_data)}\")"
      ]
    },
    {
      "cell_type": "code",
      "execution_count": 6,
      "metadata": {
        "id": "KZ4pfHqLF-k9",
        "colab": {
          "base_uri": "https://localhost:8080/",
          "height": 281,
          "referenced_widgets": [
            "e28a984d3c1544069628fb915c20ee8f",
            "d67498d932b241c58d2996a9e5e51a87",
            "d7bc828f8116483582710005cd0563eb",
            "a3742f1e636048d699e81835d251d258",
            "cbb77051d42c422a8dcbc0be6fa5419b",
            "44d90e2fa21d4c68a07e924b91e437ab",
            "f6c2226e2b874bc1b9bf76ab241584f1",
            "e79d0d87f71d4c6ab7708daa59931be1",
            "1f74bd31b58846df80e089bb8d432ed1",
            "314f8c4038714cf18262db5b30e839f4",
            "9c514d59ff494ac0b13b3b8856a8048c",
            "2f3cf00c9e2b41848b1f4e8df78fd8b3",
            "df8b8cc1e6034a578237a5aa3881b815",
            "36935c16103d4b31b1fb2486e089a877",
            "ee00d06e82f445609b95c70e416155a3",
            "67f7fe1b4f454c5ebdc7b5598b46b72f",
            "68ebc0393d90480a982dd98e75d7092a",
            "a4773956ff6a48b38555d8158913a9bb",
            "a394823379754f61bdedcc12b3aa0d0d",
            "e95a56522b484591ad8bb1728b65340e",
            "d95d3da4e09b41e39699f0bed54ac0c1",
            "fbca5c9271e444d0a3ad5d3d26fd5ff3",
            "447ae2457464440e99ecfaaa5f794788",
            "892788047e3d4c7b8301ab607db8de23",
            "ba2572c933e149a5b12800b59b4b84e4",
            "555b7dedeac541be91d2c460b6d5840f",
            "93d99a9c6f4b474f92180d82c5e3fdd5",
            "e575e2373ee044098980148d410e1877",
            "74f08cb1d9a747ffbd815ac708bfab6a",
            "a7147e05e1214e7597d682edffa21af9",
            "1caf46aaa0fa49c789a4dfb30bd3d590",
            "83450e9fc0b34ec7915bd42358bf22c5",
            "7555e7c988d744b6bde33a952d3d5de8",
            "843ea0dc7a0542ee819f1b122867bcc1",
            "6dcff862c06745f1826089f84cf8daee",
            "08096814c0244370ba66a3c0d095bfca",
            "d300996ffb7242f7bf08360fdc8c3a37",
            "cc3a7c8ea08b48b38e2325c991e84926",
            "f4f086c302af41569e066fc192a99d80",
            "9f0bc3a4839e430aa9efac1d5320007d",
            "06d62010c329438ab7dd3d9e1ddba1c2",
            "9414fe6bf67b4ded941cd48a2020b53e",
            "bd7e9ded4c6e45f486887132b2321ea4",
            "22b86c0b3ba54310ab26ab30f8f62e52",
            "aaeda315054b4e1981cbec3675b346f9",
            "8cd46d98d3194d829a66f6aa7418024b",
            "f2c518b58c7b4fa3a15f2403155a41a5",
            "79a5a88c7ae64a3fb6704ae0ced07931",
            "b9c3f75684a94e0fb4e63000312c89ad",
            "f220434283624846979465a1bd699b7e",
            "3dc54f17a458483bbcd901602b00b9e5",
            "b1476da82452475bbeff1d0e82d23063",
            "b03e8134006944cc970f157fcf657704",
            "ff8cb553238a47d4a8818abf265e80e6",
            "14f0278270234583829827b2a54b12fc"
          ]
        },
        "outputId": "7c95cff8-d397-439d-a8ec-b03d1f997a5e"
      },
      "outputs": [
        {
          "output_type": "stream",
          "name": "stderr",
          "text": [
            "/usr/local/lib/python3.11/dist-packages/huggingface_hub/utils/_auth.py:94: UserWarning: \n",
            "The secret `HF_TOKEN` does not exist in your Colab secrets.\n",
            "To authenticate with the Hugging Face Hub, create a token in your settings tab (https://huggingface.co/settings/tokens), set it as secret in your Google Colab and restart your session.\n",
            "You will be able to reuse this secret in all of your notebooks.\n",
            "Please note that authentication is recommended but still optional to access public models or datasets.\n",
            "  warnings.warn(\n"
          ]
        },
        {
          "output_type": "display_data",
          "data": {
            "text/plain": [
              "tokenizer_config.json:   0%|          | 0.00/43.0 [00:00<?, ?B/s]"
            ],
            "application/vnd.jupyter.widget-view+json": {
              "version_major": 2,
              "version_minor": 0,
              "model_id": "e28a984d3c1544069628fb915c20ee8f"
            }
          },
          "metadata": {}
        },
        {
          "output_type": "display_data",
          "data": {
            "text/plain": [
              "vocab.txt:   0%|          | 0.00/210k [00:00<?, ?B/s]"
            ],
            "application/vnd.jupyter.widget-view+json": {
              "version_major": 2,
              "version_minor": 0,
              "model_id": "2f3cf00c9e2b41848b1f4e8df78fd8b3"
            }
          },
          "metadata": {}
        },
        {
          "output_type": "display_data",
          "data": {
            "text/plain": [
              "added_tokens.json:   0%|          | 0.00/2.00 [00:00<?, ?B/s]"
            ],
            "application/vnd.jupyter.widget-view+json": {
              "version_major": 2,
              "version_minor": 0,
              "model_id": "447ae2457464440e99ecfaaa5f794788"
            }
          },
          "metadata": {}
        },
        {
          "output_type": "display_data",
          "data": {
            "text/plain": [
              "special_tokens_map.json:   0%|          | 0.00/112 [00:00<?, ?B/s]"
            ],
            "application/vnd.jupyter.widget-view+json": {
              "version_major": 2,
              "version_minor": 0,
              "model_id": "843ea0dc7a0542ee819f1b122867bcc1"
            }
          },
          "metadata": {}
        },
        {
          "output_type": "display_data",
          "data": {
            "text/plain": [
              "config.json:   0%|          | 0.00/647 [00:00<?, ?B/s]"
            ],
            "application/vnd.jupyter.widget-view+json": {
              "version_major": 2,
              "version_minor": 0,
              "model_id": "aaeda315054b4e1981cbec3675b346f9"
            }
          },
          "metadata": {}
        }
      ],
      "source": [
        "from transformers import BertTokenizer\n",
        "\n",
        "tokenizer = BertTokenizer.from_pretrained('neuralmind/bert-base-portuguese-cased')"
      ]
    },
    {
      "cell_type": "code",
      "execution_count": 7,
      "metadata": {
        "id": "PrnJFkrhGDvd"
      },
      "outputs": [],
      "source": [
        "def tokenize_function(texts):\n",
        "    return tokenizer(texts, padding=True, truncation=True, max_length=128)\n",
        "\n",
        "train_encodings = tokenize_function(train_data['review_text_tokenized'].tolist())\n",
        "val_encodings = tokenize_function(val_data['review_text_tokenized'].tolist())\n",
        "test_encodings = tokenize_function(test_data['review_text_tokenized'].tolist())"
      ]
    },
    {
      "cell_type": "code",
      "execution_count": 8,
      "metadata": {
        "id": "H_mKH2sgGPot"
      },
      "outputs": [],
      "source": [
        "import torch\n",
        "from datasets import Dataset\n",
        "\n",
        "train_labels = torch.tensor(train_data['polarity'].values, dtype=torch.long)\n",
        "val_labels = torch.tensor(val_data['polarity'].values, dtype=torch.long)\n",
        "test_labels = torch.tensor(test_data['polarity'].values, dtype=torch.long)\n",
        "\n",
        "train_dataset = Dataset.from_dict({\n",
        "    'input_ids': train_encodings['input_ids'],\n",
        "    'attention_mask': train_encodings['attention_mask'],\n",
        "    'labels': train_labels\n",
        "})\n",
        "\n",
        "val_dataset = Dataset.from_dict({\n",
        "    'input_ids': val_encodings['input_ids'],\n",
        "    'attention_mask': val_encodings['attention_mask'],\n",
        "    'labels': val_labels\n",
        "})\n",
        "\n",
        "test_dataset = Dataset.from_dict({\n",
        "    'input_ids': test_encodings['input_ids'],\n",
        "    'attention_mask': test_encodings['attention_mask'],\n",
        "    'labels': test_labels\n",
        "})\n"
      ]
    },
    {
      "cell_type": "code",
      "execution_count": 9,
      "metadata": {
        "id": "xdTqlPabGUvd",
        "colab": {
          "base_uri": "https://localhost:8080/",
          "height": 104,
          "referenced_widgets": [
            "fba6385fcae54faf9d1733c7656cb7f9",
            "5bb0ab91ea444b13977f424bfd42fb81",
            "18cfef4fa9294c3ab1169185987d256f",
            "ac0a572ff9454c74b0d1cc19fb017865",
            "e7e30b5c7b2e4206893c71d544332a04",
            "c9c8c17d9d36496f8289e5df963ed885",
            "3e2cb63a484949e1b80ad774ebe7d8da",
            "c35e04238305475ca4bbcbfcf137960c",
            "3e227b64a5cb410bae156386eb70b945",
            "5c94158aff98442090bcc2fd0e581b38",
            "bbf4757ce5404226b8189e01ffab3661"
          ]
        },
        "outputId": "433901ef-1f58-4cac-dc32-6a5d8f775b52"
      },
      "outputs": [
        {
          "output_type": "display_data",
          "data": {
            "text/plain": [
              "pytorch_model.bin:   0%|          | 0.00/438M [00:00<?, ?B/s]"
            ],
            "application/vnd.jupyter.widget-view+json": {
              "version_major": 2,
              "version_minor": 0,
              "model_id": "fba6385fcae54faf9d1733c7656cb7f9"
            }
          },
          "metadata": {}
        },
        {
          "output_type": "stream",
          "name": "stderr",
          "text": [
            "Some weights of BertForSequenceClassification were not initialized from the model checkpoint at neuralmind/bert-base-portuguese-cased and are newly initialized: ['classifier.bias', 'classifier.weight']\n",
            "You should probably TRAIN this model on a down-stream task to be able to use it for predictions and inference.\n"
          ]
        }
      ],
      "source": [
        "from transformers import BertForSequenceClassification\n",
        "\n",
        "# Classificação binária (polaridade)\n",
        "model = BertForSequenceClassification.from_pretrained('neuralmind/bert-base-portuguese-cased', num_labels=2)"
      ]
    },
    {
      "cell_type": "code",
      "execution_count": 10,
      "metadata": {
        "id": "FWdgczVyGYjl"
      },
      "outputs": [],
      "source": [
        "from transformers import TrainingArguments\n",
        "\n",
        "training_args = TrainingArguments(\n",
        "    output_dir='./results',\n",
        "    eval_strategy=\"epoch\",\n",
        "    learning_rate=1.2721865183729507e-05, #Anterior: 2e-5\n",
        "    per_device_train_batch_size=16, #Anterior: 16\n",
        "    per_device_eval_batch_size=64, #Anterior: 64\n",
        "    num_train_epochs=3, #Anterior: 2\n",
        "    weight_decay=0.11310079021892039, #Anterior: 0.01\n",
        "    gradient_accumulation_steps=1, #Anterior: 2\n",
        "    metric_for_best_model=\"f1\"\n",
        "    fp16=True,\n",
        ")"
      ]
    },
    {
      "cell_type": "code",
      "execution_count": 11,
      "metadata": {
        "id": "Tq2PRH5tGlet"
      },
      "outputs": [],
      "source": [
        "from transformers import Trainer\n",
        "\n",
        "trainer = Trainer(\n",
        "    model=model,\n",
        "    args=training_args,\n",
        "    train_dataset=train_dataset,\n",
        "    eval_dataset=val_dataset\n",
        ")"
      ]
    },
    {
      "cell_type": "code",
      "execution_count": 12,
      "metadata": {
        "id": "NyqWdDp_Gnm9",
        "colab": {
          "base_uri": "https://localhost:8080/",
          "height": 502
        },
        "outputId": "8512a146-34b4-47c2-dbd8-4aa71a12bc0d"
      },
      "outputs": [
        {
          "output_type": "stream",
          "name": "stderr",
          "text": [
            "\u001b[34m\u001b[1mwandb\u001b[0m: \u001b[33mWARNING\u001b[0m The `run_name` is currently set to the same value as `TrainingArguments.output_dir`. If this was not intended, please specify a different run name by setting the `TrainingArguments.run_name` parameter.\n"
          ]
        },
        {
          "output_type": "display_data",
          "data": {
            "text/plain": [
              "<IPython.core.display.Javascript object>"
            ],
            "application/javascript": [
              "\n",
              "        window._wandbApiKey = new Promise((resolve, reject) => {\n",
              "            function loadScript(url) {\n",
              "            return new Promise(function(resolve, reject) {\n",
              "                let newScript = document.createElement(\"script\");\n",
              "                newScript.onerror = reject;\n",
              "                newScript.onload = resolve;\n",
              "                document.body.appendChild(newScript);\n",
              "                newScript.src = url;\n",
              "            });\n",
              "            }\n",
              "            loadScript(\"https://cdn.jsdelivr.net/npm/postmate/build/postmate.min.js\").then(() => {\n",
              "            const iframe = document.createElement('iframe')\n",
              "            iframe.style.cssText = \"width:0;height:0;border:none\"\n",
              "            document.body.appendChild(iframe)\n",
              "            const handshake = new Postmate({\n",
              "                container: iframe,\n",
              "                url: 'https://wandb.ai/authorize'\n",
              "            });\n",
              "            const timeout = setTimeout(() => reject(\"Couldn't auto authenticate\"), 5000)\n",
              "            handshake.then(function(child) {\n",
              "                child.on('authorize', data => {\n",
              "                    clearTimeout(timeout)\n",
              "                    resolve(data)\n",
              "                });\n",
              "            });\n",
              "            })\n",
              "        });\n",
              "    "
            ]
          },
          "metadata": {}
        },
        {
          "output_type": "stream",
          "name": "stderr",
          "text": [
            "\u001b[34m\u001b[1mwandb\u001b[0m: Logging into wandb.ai. (Learn how to deploy a W&B server locally: https://wandb.me/wandb-server)\n",
            "\u001b[34m\u001b[1mwandb\u001b[0m: You can find your API key in your browser here: https://wandb.ai/authorize?ref=models\n",
            "wandb: Paste an API key from your profile and hit enter:"
          ]
        },
        {
          "name": "stdout",
          "output_type": "stream",
          "text": [
            " ··········\n"
          ]
        },
        {
          "output_type": "stream",
          "name": "stderr",
          "text": [
            "wandb: Paste an API key from your profile and hit enter:"
          ]
        },
        {
          "name": "stdout",
          "output_type": "stream",
          "text": [
            " ··········\n"
          ]
        },
        {
          "output_type": "stream",
          "name": "stderr",
          "text": [
            "\u001b[34m\u001b[1mwandb\u001b[0m: \u001b[33mWARNING\u001b[0m If you're specifying your api key in code, ensure this code is not shared publicly.\n",
            "\u001b[34m\u001b[1mwandb\u001b[0m: \u001b[33mWARNING\u001b[0m Consider setting the WANDB_API_KEY environment variable, or running `wandb login` from the command line.\n",
            "\u001b[34m\u001b[1mwandb\u001b[0m: No netrc file found, creating one.\n",
            "\u001b[34m\u001b[1mwandb\u001b[0m: Appending key for api.wandb.ai to your netrc file: /root/.netrc\n",
            "\u001b[34m\u001b[1mwandb\u001b[0m: Currently logged in as: \u001b[33mcleandersilva\u001b[0m (\u001b[33mcleandersilva-portal-puc-campinas\u001b[0m) to \u001b[32mhttps://api.wandb.ai\u001b[0m. Use \u001b[1m`wandb login --relogin`\u001b[0m to force relogin\n"
          ]
        },
        {
          "output_type": "display_data",
          "data": {
            "text/plain": [
              "<IPython.core.display.HTML object>"
            ],
            "text/html": [
              "Tracking run with wandb version 0.19.11"
            ]
          },
          "metadata": {}
        },
        {
          "output_type": "display_data",
          "data": {
            "text/plain": [
              "<IPython.core.display.HTML object>"
            ],
            "text/html": [
              "Run data is saved locally in <code>/content/wandb/run-20250607_191456-yh0ui90f</code>"
            ]
          },
          "metadata": {}
        },
        {
          "output_type": "display_data",
          "data": {
            "text/plain": [
              "<IPython.core.display.HTML object>"
            ],
            "text/html": [
              "Syncing run <strong><a href='https://wandb.ai/cleandersilva-portal-puc-campinas/huggingface/runs/yh0ui90f' target=\"_blank\">./results</a></strong> to <a href='https://wandb.ai/cleandersilva-portal-puc-campinas/huggingface' target=\"_blank\">Weights & Biases</a> (<a href='https://wandb.me/developer-guide' target=\"_blank\">docs</a>)<br>"
            ]
          },
          "metadata": {}
        },
        {
          "output_type": "display_data",
          "data": {
            "text/plain": [
              "<IPython.core.display.HTML object>"
            ],
            "text/html": [
              " View project at <a href='https://wandb.ai/cleandersilva-portal-puc-campinas/huggingface' target=\"_blank\">https://wandb.ai/cleandersilva-portal-puc-campinas/huggingface</a>"
            ]
          },
          "metadata": {}
        },
        {
          "output_type": "display_data",
          "data": {
            "text/plain": [
              "<IPython.core.display.HTML object>"
            ],
            "text/html": [
              " View run at <a href='https://wandb.ai/cleandersilva-portal-puc-campinas/huggingface/runs/yh0ui90f' target=\"_blank\">https://wandb.ai/cleandersilva-portal-puc-campinas/huggingface/runs/yh0ui90f</a>"
            ]
          },
          "metadata": {}
        },
        {
          "output_type": "display_data",
          "data": {
            "text/plain": [
              "<IPython.core.display.HTML object>"
            ],
            "text/html": [
              "\n",
              "    <div>\n",
              "      \n",
              "      <progress value='4998' max='4998' style='width:300px; height:20px; vertical-align: middle;'></progress>\n",
              "      [4998/4998 13:35, Epoch 3/3]\n",
              "    </div>\n",
              "    <table border=\"1\" class=\"dataframe\">\n",
              "  <thead>\n",
              " <tr style=\"text-align: left;\">\n",
              "      <th>Epoch</th>\n",
              "      <th>Training Loss</th>\n",
              "      <th>Validation Loss</th>\n",
              "    </tr>\n",
              "  </thead>\n",
              "  <tbody>\n",
              "    <tr>\n",
              "      <td>1</td>\n",
              "      <td>0.185100</td>\n",
              "      <td>0.170395</td>\n",
              "    </tr>\n",
              "    <tr>\n",
              "      <td>2</td>\n",
              "      <td>0.143600</td>\n",
              "      <td>0.170595</td>\n",
              "    </tr>\n",
              "    <tr>\n",
              "      <td>3</td>\n",
              "      <td>0.122500</td>\n",
              "      <td>0.192580</td>\n",
              "    </tr>\n",
              "  </tbody>\n",
              "</table><p>"
            ]
          },
          "metadata": {}
        },
        {
          "output_type": "execute_result",
          "data": {
            "text/plain": [
              "TrainOutput(global_step=4998, training_loss=0.15470738542609427, metrics={'train_runtime': 936.8081, 'train_samples_per_second': 85.362, 'train_steps_per_second': 5.335, 'total_flos': 5260116218757120.0, 'train_loss': 0.15470738542609427, 'epoch': 3.0})"
            ]
          },
          "metadata": {},
          "execution_count": 12
        }
      ],
      "source": [
        "trainer.train()"
      ]
    },
    {
      "cell_type": "markdown",
      "source": [
        "##Avaliando e Salvando o Modelo"
      ],
      "metadata": {
        "id": "3cWHe3qg4H8z"
      }
    },
    {
      "cell_type": "code",
      "execution_count": 13,
      "metadata": {
        "id": "qzPTcBSYG0JN",
        "colab": {
          "base_uri": "https://localhost:8080/",
          "height": 124
        },
        "outputId": "6f9190ba-1e4d-49dd-b9cd-46e17e404269"
      },
      "outputs": [
        {
          "output_type": "display_data",
          "data": {
            "text/plain": [
              "<IPython.core.display.HTML object>"
            ],
            "text/html": [
              "\n",
              "    <div>\n",
              "      \n",
              "      <progress value='60' max='60' style='width:300px; height:20px; vertical-align: middle;'></progress>\n",
              "      [60/60 00:05]\n",
              "    </div>\n",
              "    "
            ]
          },
          "metadata": {}
        },
        {
          "output_type": "execute_result",
          "data": {
            "text/plain": [
              "{'eval_loss': 0.19349035620689392,\n",
              " 'eval_runtime': 5.9641,\n",
              " 'eval_samples_per_second': 638.491,\n",
              " 'eval_steps_per_second': 10.06,\n",
              " 'epoch': 3.0}"
            ]
          },
          "metadata": {},
          "execution_count": 13
        }
      ],
      "source": [
        "trainer.evaluate(test_dataset)"
      ]
    },
    {
      "cell_type": "code",
      "source": [
        "from sklearn.metrics import accuracy_score, classification_report\n",
        "import torch\n",
        "\n",
        "def compute_metrics(dataset):\n",
        "    predictions = trainer.predict(dataset)\n",
        "    preds = torch.argmax(torch.tensor(predictions.predictions), axis=1)\n",
        "    labels = dataset[\"labels\"]\n",
        "    accuracy = accuracy_score(labels, preds)\n",
        "    report = classification_report(labels, preds, target_names=[\"Negativo\", \"Positivo\"])\n",
        "\n",
        "    print(f\"Acurácia: {accuracy:.4f}\")\n",
        "    print(\"Relatório de Classificação:\\n\", report)\n",
        "\n",
        "compute_metrics(test_dataset)"
      ],
      "metadata": {
        "id": "lIgi_pRhsHpc",
        "colab": {
          "base_uri": "https://localhost:8080/",
          "height": 208
        },
        "outputId": "aac26841-91a2-4e9f-a948-f29215f4bada"
      },
      "execution_count": 15,
      "outputs": [
        {
          "output_type": "display_data",
          "data": {
            "text/plain": [
              "<IPython.core.display.HTML object>"
            ],
            "text/html": []
          },
          "metadata": {}
        },
        {
          "output_type": "stream",
          "name": "stdout",
          "text": [
            "Acurácia: 0.9464\n",
            "Relatório de Classificação:\n",
            "               precision    recall  f1-score   support\n",
            "\n",
            "    Negativo       0.89      0.93      0.91      1140\n",
            "    Positivo       0.97      0.95      0.96      2668\n",
            "\n",
            "    accuracy                           0.95      3808\n",
            "   macro avg       0.93      0.94      0.94      3808\n",
            "weighted avg       0.95      0.95      0.95      3808\n",
            "\n"
          ]
        }
      ]
    },
    {
      "cell_type": "code",
      "source": [
        "from google.colab import drive\n",
        "drive.mount('/content/drive')\n",
        "\n",
        "model.save_pretrained(\"/content/drive/MyDrive/sentiment_model_optuna_tuned\")\n",
        "tokenizer.save_pretrained(\"/content/drive/MyDrive/sentiment_model_optuna_tuned\")"
      ],
      "metadata": {
        "id": "Id2lDMC5ZLKC",
        "colab": {
          "base_uri": "https://localhost:8080/"
        },
        "outputId": "9a04e364-4fbe-4e4c-dc7a-3495294ef62b"
      },
      "execution_count": 14,
      "outputs": [
        {
          "output_type": "stream",
          "name": "stdout",
          "text": [
            "Mounted at /content/drive\n"
          ]
        },
        {
          "output_type": "execute_result",
          "data": {
            "text/plain": [
              "('/content/drive/MyDrive/sentiment_model_optuna_tuned/tokenizer_config.json',\n",
              " '/content/drive/MyDrive/sentiment_model_optuna_tuned/special_tokens_map.json',\n",
              " '/content/drive/MyDrive/sentiment_model_optuna_tuned/vocab.txt',\n",
              " '/content/drive/MyDrive/sentiment_model_optuna_tuned/added_tokens.json')"
            ]
          },
          "metadata": {},
          "execution_count": 14
        }
      ]
    },
    {
      "cell_type": "code",
      "source": [
        "model = BertForSequenceClassification.from_pretrained(\"/content/drive/MyDrive/sentiment_model_optuna_tuned\")\n",
        "tokenizer = BertTokenizer.from_pretrained(\"/content/drive/MyDrive/sentiment_model_optuna_tuned\")\n",
        "\n",
        "def predict_sentiment(texts):\n",
        "    encodings = tokenizer(texts, padding=True, truncation=True, max_length=128, return_tensors=\"pt\")\n",
        "    outputs = model(**encodings)\n",
        "    predictions = outputs.logits.argmax(dim=-1)\n",
        "    return predictions\n",
        "\n",
        "textos = [\"Este úlitmo lançamento não foi legal\", \"Não podia ter comprado um produto melhor.\"]\n",
        "predictions = predict_sentiment(textos)\n",
        "print(predictions)"
      ],
      "metadata": {
        "id": "0DZ5OoTir_5d",
        "colab": {
          "base_uri": "https://localhost:8080/"
        },
        "outputId": "d1beee73-60a8-426f-9495-9c8ed1bf12ec"
      },
      "execution_count": 17,
      "outputs": [
        {
          "output_type": "stream",
          "name": "stdout",
          "text": [
            "tensor([0, 1])\n"
          ]
        }
      ]
    },
    {
      "cell_type": "markdown",
      "source": [
        "###Avaliando modelo antigo"
      ],
      "metadata": {
        "id": "japmhod08yoT"
      }
    },
    {
      "cell_type": "code",
      "source": [
        "from transformers import BertForSequenceClassification\n",
        "\n",
        "model_path = \"/content/drive/MyDrive/sentiment_model\"\n",
        "\n",
        "old_model = BertForSequenceClassification.from_pretrained(model_path)"
      ],
      "metadata": {
        "id": "Sp5AeeRk82s6"
      },
      "execution_count": 18,
      "outputs": []
    },
    {
      "cell_type": "code",
      "source": [
        "from transformers import Trainer\n",
        "\n",
        "old_trainer = Trainer(\n",
        "    model=old_model,\n",
        "    args=training_args,\n",
        "    train_dataset=train_dataset,  # opcional, não será usado na avaliação\n",
        "    eval_dataset=test_dataset     # usado para avaliação\n",
        ")"
      ],
      "metadata": {
        "id": "cPBKXvXl9MHr"
      },
      "execution_count": 19,
      "outputs": []
    },
    {
      "cell_type": "code",
      "source": [
        "from sklearn.metrics import accuracy_score, classification_report\n",
        "import torch\n",
        "\n",
        "def compute_old_model_metrics(dataset):\n",
        "    predictions = old_trainer.predict(dataset)\n",
        "    preds = torch.argmax(torch.tensor(predictions.predictions), axis=1)\n",
        "    labels = dataset[\"labels\"]\n",
        "    accuracy = accuracy_score(labels, preds)\n",
        "    report = classification_report(labels, preds, target_names=[\"Negativo\", \"Positivo\"])\n",
        "\n",
        "    print(f\"Acurácia: {accuracy:.4f}\")\n",
        "    print(\"Relatório de Classificação:\\n\", report)\n",
        "\n",
        "compute_old_model_metrics(test_dataset)"
      ],
      "metadata": {
        "colab": {
          "base_uri": "https://localhost:8080/",
          "height": 208
        },
        "id": "6NkutcbR9Pzj",
        "outputId": "595fe9c9-87a3-4e01-e841-a67969fd3e8b"
      },
      "execution_count": 20,
      "outputs": [
        {
          "output_type": "display_data",
          "data": {
            "text/plain": [
              "<IPython.core.display.HTML object>"
            ],
            "text/html": []
          },
          "metadata": {}
        },
        {
          "output_type": "stream",
          "name": "stdout",
          "text": [
            "Acurácia: 0.9472\n",
            "Relatório de Classificação:\n",
            "               precision    recall  f1-score   support\n",
            "\n",
            "    Negativo       0.90      0.93      0.91      1140\n",
            "    Positivo       0.97      0.95      0.96      2668\n",
            "\n",
            "    accuracy                           0.95      3808\n",
            "   macro avg       0.93      0.94      0.94      3808\n",
            "weighted avg       0.95      0.95      0.95      3808\n",
            "\n"
          ]
        }
      ]
    },
    {
      "cell_type": "markdown",
      "source": [
        "##Fazendo Fine-tuning dos Hiperparâmetros"
      ],
      "metadata": {
        "id": "d1PuE51VQsgw"
      }
    },
    {
      "cell_type": "code",
      "source": [
        "pip install optuna"
      ],
      "metadata": {
        "colab": {
          "base_uri": "https://localhost:8080/",
          "height": 382
        },
        "id": "X3amlhYpROYH",
        "outputId": "eed033a2-9a21-4fe6-fbf3-9f83a152cfde"
      },
      "execution_count": null,
      "outputs": [
        {
          "output_type": "stream",
          "name": "stdout",
          "text": [
            "Collecting optuna\n",
            "  Downloading optuna-4.3.0-py3-none-any.whl.metadata (17 kB)\n",
            "Collecting alembic>=1.5.0 (from optuna)\n",
            "  Downloading alembic-1.16.1-py3-none-any.whl.metadata (7.3 kB)\n",
            "Collecting colorlog (from optuna)\n",
            "  Downloading colorlog-6.9.0-py3-none-any.whl.metadata (10 kB)\n",
            "Requirement already satisfied: numpy in /usr/local/lib/python3.11/dist-packages (from optuna) (2.0.2)\n",
            "Requirement already satisfied: packaging>=20.0 in /usr/local/lib/python3.11/dist-packages (from optuna) (24.2)\n",
            "Requirement already satisfied: sqlalchemy>=1.4.2 in /usr/local/lib/python3.11/dist-packages (from optuna) (2.0.40)\n",
            "Requirement already satisfied: tqdm in /usr/local/lib/python3.11/dist-packages (from optuna) (4.67.1)\n",
            "Requirement already satisfied: PyYAML in /usr/local/lib/python3.11/dist-packages (from optuna) (6.0.2)\n",
            "Requirement already satisfied: Mako in /usr/lib/python3/dist-packages (from alembic>=1.5.0->optuna) (1.1.3)\n",
            "Requirement already satisfied: typing-extensions>=4.12 in /usr/local/lib/python3.11/dist-packages (from alembic>=1.5.0->optuna) (4.13.2)\n",
            "Requirement already satisfied: greenlet>=1 in /usr/local/lib/python3.11/dist-packages (from sqlalchemy>=1.4.2->optuna) (3.2.2)\n",
            "Downloading optuna-4.3.0-py3-none-any.whl (386 kB)\n",
            "\u001b[2K   \u001b[90m━━━━━━━━━━━━━━━━━━━━━━━━━━━━━━━━━━━━━━━━\u001b[0m \u001b[32m386.6/386.6 kB\u001b[0m \u001b[31m8.1 MB/s\u001b[0m eta \u001b[36m0:00:00\u001b[0m\n",
            "\u001b[?25hDownloading alembic-1.16.1-py3-none-any.whl (242 kB)\n",
            "\u001b[2K   \u001b[90m━━━━━━━━━━━━━━━━━━━━━━━━━━━━━━━━━━━━━━━━\u001b[0m \u001b[32m242.5/242.5 kB\u001b[0m \u001b[31m22.2 MB/s\u001b[0m eta \u001b[36m0:00:00\u001b[0m\n",
            "\u001b[?25hDownloading colorlog-6.9.0-py3-none-any.whl (11 kB)\n",
            "Installing collected packages: colorlog, alembic, optuna\n",
            "Successfully installed alembic-1.16.1 colorlog-6.9.0 optuna-4.3.0\n"
          ]
        }
      ]
    },
    {
      "cell_type": "code",
      "source": [
        "from transformers import Trainer, TrainingArguments\n",
        "import optuna\n",
        "import numpy as np\n",
        "from sklearn.metrics import f1_score\n",
        "\n",
        "def compute_metrics(p):\n",
        "    preds = np.argmax(p.predictions, axis=1)\n",
        "    return {\"f1\": f1_score(p.label_ids, preds, average=\"macro\")}\n",
        "\n",
        "def model_init():\n",
        "    return BertForSequenceClassification.from_pretrained(\n",
        "        'neuralmind/bert-base-portuguese-cased',\n",
        "        num_labels=2\n",
        "    )\n",
        "\n",
        "def hp_space(trial):\n",
        "    return {\n",
        "        \"learning_rate\": trial.suggest_float(\"learning_rate\", 5e-6, 5e-5, log=True),\n",
        "        \"per_device_train_batch_size\": trial.suggest_categorical(\"per_device_train_batch_size\", [8, 16]),\n",
        "        \"num_train_epochs\": trial.suggest_int(\"num_train_epochs\", 2, 5),\n",
        "        \"weight_decay\": trial.suggest_float(\"weight_decay\", 0.0, 0.3),\n",
        "        \"gradient_accumulation_steps\": trial.suggest_categorical(\"gradient_accumulation_steps\", [1, 2, 3, 4]),\n",
        "        \"warmup_ratio\": trial.suggest_float(\"warmup_ratio\", 0.0, 0.3),\n",
        "    }\n",
        "\n",
        "optuna_args = TrainingArguments(\n",
        "    output_dir=\"./optuna_test\",\n",
        "    eval_strategy=\"epoch\",\n",
        "    save_strategy=\"epoch\",\n",
        "    per_device_eval_batch_size=64,\n",
        "    fp16=True,\n",
        "    save_total_limit=1,\n",
        "    load_best_model_at_end=True,\n",
        "    metric_for_best_model=\"f1\"\n",
        ")\n",
        "\n",
        "optuna_trainer = Trainer(\n",
        "    model_init=model_init,\n",
        "    args=optuna_args,\n",
        "    train_dataset=train_dataset,\n",
        "    eval_dataset=val_dataset,\n",
        "    compute_metrics=compute_metrics\n",
        ")\n",
        "\n",
        "print(\"Iniciando busca de hiperparâmetros com Optuna...\")\n",
        "\n",
        "best_run = optuna_trainer.hyperparameter_search(\n",
        "    direction=\"maximize\",\n",
        "    n_trials=15,\n",
        "    hp_space=hp_space,\n",
        "    backend=\"optuna\"\n",
        ")\n",
        "\n",
        "print(\"\\nMelhores hiperparâmetros encontrados:\")\n",
        "for param, value in best_run.hyperparameters.items():\n",
        "    print(f\"{param}: {value}\")"
      ],
      "metadata": {
        "colab": {
          "base_uri": "https://localhost:8080/",
          "height": 1000
        },
        "id": "rDwUJ3OjQzXI",
        "outputId": "30909018-961a-4356-e5ff-a7e7a782770a"
      },
      "execution_count": null,
      "outputs": [
        {
          "output_type": "stream",
          "name": "stderr",
          "text": [
            "Some weights of BertForSequenceClassification were not initialized from the model checkpoint at neuralmind/bert-base-portuguese-cased and are newly initialized: ['classifier.bias', 'classifier.weight']\n",
            "You should probably TRAIN this model on a down-stream task to be able to use it for predictions and inference.\n",
            "[I 2025-05-26 02:26:43,939] A new study created in memory with name: no-name-8107899b-f2c6-47ff-bcaa-a8391a7e1ac7\n"
          ]
        },
        {
          "output_type": "stream",
          "name": "stdout",
          "text": [
            "Iniciando busca de hiperparâmetros com Optuna...\n"
          ]
        },
        {
          "output_type": "stream",
          "name": "stderr",
          "text": [
            "Some weights of BertForSequenceClassification were not initialized from the model checkpoint at neuralmind/bert-base-portuguese-cased and are newly initialized: ['classifier.bias', 'classifier.weight']\n",
            "You should probably TRAIN this model on a down-stream task to be able to use it for predictions and inference.\n"
          ]
        },
        {
          "output_type": "display_data",
          "data": {
            "text/plain": [
              "<IPython.core.display.Javascript object>"
            ],
            "application/javascript": [
              "\n",
              "        window._wandbApiKey = new Promise((resolve, reject) => {\n",
              "            function loadScript(url) {\n",
              "            return new Promise(function(resolve, reject) {\n",
              "                let newScript = document.createElement(\"script\");\n",
              "                newScript.onerror = reject;\n",
              "                newScript.onload = resolve;\n",
              "                document.body.appendChild(newScript);\n",
              "                newScript.src = url;\n",
              "            });\n",
              "            }\n",
              "            loadScript(\"https://cdn.jsdelivr.net/npm/postmate/build/postmate.min.js\").then(() => {\n",
              "            const iframe = document.createElement('iframe')\n",
              "            iframe.style.cssText = \"width:0;height:0;border:none\"\n",
              "            document.body.appendChild(iframe)\n",
              "            const handshake = new Postmate({\n",
              "                container: iframe,\n",
              "                url: 'https://wandb.ai/authorize'\n",
              "            });\n",
              "            const timeout = setTimeout(() => reject(\"Couldn't auto authenticate\"), 5000)\n",
              "            handshake.then(function(child) {\n",
              "                child.on('authorize', data => {\n",
              "                    clearTimeout(timeout)\n",
              "                    resolve(data)\n",
              "                });\n",
              "            });\n",
              "            })\n",
              "        });\n",
              "    "
            ]
          },
          "metadata": {}
        },
        {
          "output_type": "stream",
          "name": "stderr",
          "text": [
            "\u001b[34m\u001b[1mwandb\u001b[0m: \u001b[33mWARNING\u001b[0m If you're specifying your api key in code, ensure this code is not shared publicly.\n",
            "\u001b[34m\u001b[1mwandb\u001b[0m: \u001b[33mWARNING\u001b[0m Consider setting the WANDB_API_KEY environment variable, or running `wandb login` from the command line.\n",
            "\u001b[34m\u001b[1mwandb\u001b[0m: No netrc file found, creating one.\n",
            "\u001b[34m\u001b[1mwandb\u001b[0m: Appending key for api.wandb.ai to your netrc file: /root/.netrc\n",
            "\u001b[34m\u001b[1mwandb\u001b[0m: Currently logged in as: \u001b[33mcleandersilva\u001b[0m (\u001b[33mcleandersilva-portal-puc-campinas\u001b[0m) to \u001b[32mhttps://api.wandb.ai\u001b[0m. Use \u001b[1m`wandb login --relogin`\u001b[0m to force relogin\n"
          ]
        },
        {
          "output_type": "display_data",
          "data": {
            "text/plain": [
              "<IPython.core.display.HTML object>"
            ],
            "text/html": [
              "Tracking run with wandb version 0.19.11"
            ]
          },
          "metadata": {}
        },
        {
          "output_type": "display_data",
          "data": {
            "text/plain": [
              "<IPython.core.display.HTML object>"
            ],
            "text/html": [
              "Run data is saved locally in <code>/content/wandb/run-20250526_022653-ajt5boqa</code>"
            ]
          },
          "metadata": {}
        },
        {
          "output_type": "display_data",
          "data": {
            "text/plain": [
              "<IPython.core.display.HTML object>"
            ],
            "text/html": [
              "Syncing run <strong><a href='https://wandb.ai/cleandersilva-portal-puc-campinas/huggingface/runs/ajt5boqa' target=\"_blank\">graceful-energy-8</a></strong> to <a href='https://wandb.ai/cleandersilva-portal-puc-campinas/huggingface' target=\"_blank\">Weights & Biases</a> (<a href='https://wandb.me/developer-guide' target=\"_blank\">docs</a>)<br>"
            ]
          },
          "metadata": {}
        },
        {
          "output_type": "display_data",
          "data": {
            "text/plain": [
              "<IPython.core.display.HTML object>"
            ],
            "text/html": [
              " View project at <a href='https://wandb.ai/cleandersilva-portal-puc-campinas/huggingface' target=\"_blank\">https://wandb.ai/cleandersilva-portal-puc-campinas/huggingface</a>"
            ]
          },
          "metadata": {}
        },
        {
          "output_type": "display_data",
          "data": {
            "text/plain": [
              "<IPython.core.display.HTML object>"
            ],
            "text/html": [
              " View run at <a href='https://wandb.ai/cleandersilva-portal-puc-campinas/huggingface/runs/ajt5boqa' target=\"_blank\">https://wandb.ai/cleandersilva-portal-puc-campinas/huggingface/runs/ajt5boqa</a>"
            ]
          },
          "metadata": {}
        },
        {
          "output_type": "display_data",
          "data": {
            "text/plain": [
              "<IPython.core.display.HTML object>"
            ],
            "text/html": [
              "\n",
              "    <div>\n",
              "      \n",
              "      <progress value='1666' max='1666' style='width:300px; height:20px; vertical-align: middle;'></progress>\n",
              "      [1666/1666 07:51, Epoch 2/2]\n",
              "    </div>\n",
              "    <table border=\"1\" class=\"dataframe\">\n",
              "  <thead>\n",
              " <tr style=\"text-align: left;\">\n",
              "      <th>Epoch</th>\n",
              "      <th>Training Loss</th>\n",
              "      <th>Validation Loss</th>\n",
              "    </tr>\n",
              "  </thead>\n",
              "  <tbody>\n",
              "    <tr>\n",
              "      <td>1</td>\n",
              "      <td>0.206600</td>\n",
              "      <td>0.158807</td>\n",
              "    </tr>\n",
              "    <tr>\n",
              "      <td>2</td>\n",
              "      <td>0.128700</td>\n",
              "      <td>0.164498</td>\n",
              "    </tr>\n",
              "  </tbody>\n",
              "</table><p>"
            ]
          },
          "metadata": {}
        },
        {
          "output_type": "stream",
          "name": "stderr",
          "text": [
            "[I 2025-05-26 02:34:50,355] Trial 0 finished with value: 0.1644984930753708 and parameters: {'learning_rate': 2.5897590035892957e-05, 'per_device_train_batch_size': 8, 'num_train_epochs': 2, 'weight_decay': 0.12786594774902446, 'gradient_accumulation_steps': 4}. Best is trial 0 with value: 0.1644984930753708.\n",
            "Some weights of BertForSequenceClassification were not initialized from the model checkpoint at neuralmind/bert-base-portuguese-cased and are newly initialized: ['classifier.bias', 'classifier.weight']\n",
            "You should probably TRAIN this model on a down-stream task to be able to use it for predictions and inference.\n"
          ]
        },
        {
          "output_type": "display_data",
          "data": {
            "text/plain": [
              "<IPython.core.display.HTML object>"
            ],
            "text/html": []
          },
          "metadata": {}
        },
        {
          "output_type": "display_data",
          "data": {
            "text/plain": [
              "<IPython.core.display.HTML object>"
            ],
            "text/html": [
              "<br>    <style><br>        .wandb-row {<br>            display: flex;<br>            flex-direction: row;<br>            flex-wrap: wrap;<br>            justify-content: flex-start;<br>            width: 100%;<br>        }<br>        .wandb-col {<br>            display: flex;<br>            flex-direction: column;<br>            flex-basis: 100%;<br>            flex: 1;<br>            padding: 10px;<br>        }<br>    </style><br><div class=\"wandb-row\"><div class=\"wandb-col\"><h3>Run history:</h3><br/><table class=\"wandb\"><tr><td>eval/loss</td><td>▁█</td></tr><tr><td>eval/runtime</td><td>▁█</td></tr><tr><td>eval/samples_per_second</td><td>█▁</td></tr><tr><td>eval/steps_per_second</td><td>█▁</td></tr><tr><td>train/epoch</td><td>▁▃▄▇██</td></tr><tr><td>train/global_step</td><td>▁▃▄▇██</td></tr><tr><td>train/grad_norm</td><td>█▇▁</td></tr><tr><td>train/learning_rate</td><td>█▄▁</td></tr><tr><td>train/loss</td><td>█▄▁</td></tr></table><br/></div><div class=\"wandb-col\"><h3>Run summary:</h3><br/><table class=\"wandb\"><tr><td>eval/loss</td><td>0.1645</td></tr><tr><td>eval/runtime</td><td>6.0303</td></tr><tr><td>eval/samples_per_second</td><td>631.477</td></tr><tr><td>eval/steps_per_second</td><td>9.95</td></tr><tr><td>total_flos</td><td>3506744145838080.0</td></tr><tr><td>train/epoch</td><td>2</td></tr><tr><td>train/global_step</td><td>1666</td></tr><tr><td>train/grad_norm</td><td>0.64303</td></tr><tr><td>train/learning_rate</td><td>0.0</td></tr><tr><td>train/loss</td><td>0.1287</td></tr><tr><td>train_loss</td><td>0.16273</td></tr><tr><td>train_runtime</td><td>481.7048</td></tr><tr><td>train_samples_per_second</td><td>110.674</td></tr><tr><td>train_steps_per_second</td><td>3.459</td></tr></table><br/></div></div>"
            ]
          },
          "metadata": {}
        },
        {
          "output_type": "display_data",
          "data": {
            "text/plain": [
              "<IPython.core.display.HTML object>"
            ],
            "text/html": [
              " View run <strong style=\"color:#cdcd00\">graceful-energy-8</strong> at: <a href='https://wandb.ai/cleandersilva-portal-puc-campinas/huggingface/runs/ajt5boqa' target=\"_blank\">https://wandb.ai/cleandersilva-portal-puc-campinas/huggingface/runs/ajt5boqa</a><br> View project at: <a href='https://wandb.ai/cleandersilva-portal-puc-campinas/huggingface' target=\"_blank\">https://wandb.ai/cleandersilva-portal-puc-campinas/huggingface</a><br>Synced 5 W&B file(s), 0 media file(s), 0 artifact file(s) and 0 other file(s)"
            ]
          },
          "metadata": {}
        },
        {
          "output_type": "display_data",
          "data": {
            "text/plain": [
              "<IPython.core.display.HTML object>"
            ],
            "text/html": [
              "Find logs at: <code>./wandb/run-20250526_022653-ajt5boqa/logs</code>"
            ]
          },
          "metadata": {}
        },
        {
          "output_type": "display_data",
          "data": {
            "text/plain": [
              "<IPython.core.display.HTML object>"
            ],
            "text/html": [
              "Tracking run with wandb version 0.19.11"
            ]
          },
          "metadata": {}
        },
        {
          "output_type": "display_data",
          "data": {
            "text/plain": [
              "<IPython.core.display.HTML object>"
            ],
            "text/html": [
              "Run data is saved locally in <code>/content/wandb/run-20250526_023452-bu9ej7kc</code>"
            ]
          },
          "metadata": {}
        },
        {
          "output_type": "display_data",
          "data": {
            "text/plain": [
              "<IPython.core.display.HTML object>"
            ],
            "text/html": [
              "Syncing run <strong><a href='https://wandb.ai/cleandersilva-portal-puc-campinas/huggingface/runs/bu9ej7kc' target=\"_blank\">sparkling-capybara-9</a></strong> to <a href='https://wandb.ai/cleandersilva-portal-puc-campinas/huggingface' target=\"_blank\">Weights & Biases</a> (<a href='https://wandb.me/developer-guide' target=\"_blank\">docs</a>)<br>"
            ]
          },
          "metadata": {}
        },
        {
          "output_type": "display_data",
          "data": {
            "text/plain": [
              "<IPython.core.display.HTML object>"
            ],
            "text/html": [
              " View project at <a href='https://wandb.ai/cleandersilva-portal-puc-campinas/huggingface' target=\"_blank\">https://wandb.ai/cleandersilva-portal-puc-campinas/huggingface</a>"
            ]
          },
          "metadata": {}
        },
        {
          "output_type": "display_data",
          "data": {
            "text/plain": [
              "<IPython.core.display.HTML object>"
            ],
            "text/html": [
              " View run at <a href='https://wandb.ai/cleandersilva-portal-puc-campinas/huggingface/runs/bu9ej7kc' target=\"_blank\">https://wandb.ai/cleandersilva-portal-puc-campinas/huggingface/runs/bu9ej7kc</a>"
            ]
          },
          "metadata": {}
        },
        {
          "output_type": "display_data",
          "data": {
            "text/plain": [
              "<IPython.core.display.HTML object>"
            ],
            "text/html": [
              "\n",
              "    <div>\n",
              "      \n",
              "      <progress value='416' max='416' style='width:300px; height:20px; vertical-align: middle;'></progress>\n",
              "      [416/416 05:06, Epoch 1/2]\n",
              "    </div>\n",
              "    <table border=\"1\" class=\"dataframe\">\n",
              "  <thead>\n",
              " <tr style=\"text-align: left;\">\n",
              "      <th>Epoch</th>\n",
              "      <th>Training Loss</th>\n",
              "      <th>Validation Loss</th>\n",
              "    </tr>\n",
              "  </thead>\n",
              "  <tbody>\n",
              "    <tr>\n",
              "      <td>1</td>\n",
              "      <td>No log</td>\n",
              "      <td>0.173142</td>\n",
              "    </tr>\n",
              "  </tbody>\n",
              "</table><p>"
            ]
          },
          "metadata": {}
        },
        {
          "output_type": "stream",
          "name": "stderr",
          "text": [
            "[I 2025-05-26 02:40:02,152] Trial 1 finished with value: 0.17314240336418152 and parameters: {'learning_rate': 1.1572306976108192e-05, 'per_device_train_batch_size': 32, 'num_train_epochs': 2, 'weight_decay': 0.27942418129188995, 'gradient_accumulation_steps': 4}. Best is trial 1 with value: 0.17314240336418152.\n",
            "Some weights of BertForSequenceClassification were not initialized from the model checkpoint at neuralmind/bert-base-portuguese-cased and are newly initialized: ['classifier.bias', 'classifier.weight']\n",
            "You should probably TRAIN this model on a down-stream task to be able to use it for predictions and inference.\n"
          ]
        },
        {
          "output_type": "display_data",
          "data": {
            "text/plain": [
              "<IPython.core.display.HTML object>"
            ],
            "text/html": []
          },
          "metadata": {}
        },
        {
          "output_type": "display_data",
          "data": {
            "text/plain": [
              "<IPython.core.display.HTML object>"
            ],
            "text/html": [
              "<br>    <style><br>        .wandb-row {<br>            display: flex;<br>            flex-direction: row;<br>            flex-wrap: wrap;<br>            justify-content: flex-start;<br>            width: 100%;<br>        }<br>        .wandb-col {<br>            display: flex;<br>            flex-direction: column;<br>            flex-basis: 100%;<br>            flex: 1;<br>            padding: 10px;<br>        }<br>    </style><br><div class=\"wandb-row\"><div class=\"wandb-col\"><h3>Run history:</h3><br/><table class=\"wandb\"><tr><td>eval/loss</td><td>█▁</td></tr><tr><td>eval/runtime</td><td>█▁</td></tr><tr><td>eval/samples_per_second</td><td>▁█</td></tr><tr><td>eval/steps_per_second</td><td>▁█</td></tr><tr><td>train/epoch</td><td>▁██</td></tr><tr><td>train/global_step</td><td>▁██</td></tr></table><br/></div><div class=\"wandb-col\"><h3>Run summary:</h3><br/><table class=\"wandb\"><tr><td>eval/loss</td><td>0.17314</td></tr><tr><td>eval/runtime</td><td>5.966</td></tr><tr><td>eval/samples_per_second</td><td>638.285</td></tr><tr><td>eval/steps_per_second</td><td>10.057</td></tr><tr><td>total_flos</td><td>3496219703623680.0</td></tr><tr><td>train/epoch</td><td>1.994</td></tr><tr><td>train/global_step</td><td>416</td></tr><tr><td>train_loss</td><td>0.21086</td></tr><tr><td>train_runtime</td><td>308.5801</td></tr><tr><td>train_samples_per_second</td><td>172.766</td></tr><tr><td>train_steps_per_second</td><td>1.348</td></tr></table><br/></div></div>"
            ]
          },
          "metadata": {}
        },
        {
          "output_type": "display_data",
          "data": {
            "text/plain": [
              "<IPython.core.display.HTML object>"
            ],
            "text/html": [
              " View run <strong style=\"color:#cdcd00\">sparkling-capybara-9</strong> at: <a href='https://wandb.ai/cleandersilva-portal-puc-campinas/huggingface/runs/bu9ej7kc' target=\"_blank\">https://wandb.ai/cleandersilva-portal-puc-campinas/huggingface/runs/bu9ej7kc</a><br> View project at: <a href='https://wandb.ai/cleandersilva-portal-puc-campinas/huggingface' target=\"_blank\">https://wandb.ai/cleandersilva-portal-puc-campinas/huggingface</a><br>Synced 5 W&B file(s), 0 media file(s), 0 artifact file(s) and 0 other file(s)"
            ]
          },
          "metadata": {}
        },
        {
          "output_type": "display_data",
          "data": {
            "text/plain": [
              "<IPython.core.display.HTML object>"
            ],
            "text/html": [
              "Find logs at: <code>./wandb/run-20250526_023452-bu9ej7kc/logs</code>"
            ]
          },
          "metadata": {}
        },
        {
          "output_type": "display_data",
          "data": {
            "text/plain": [
              "<IPython.core.display.HTML object>"
            ],
            "text/html": [
              "Tracking run with wandb version 0.19.11"
            ]
          },
          "metadata": {}
        },
        {
          "output_type": "display_data",
          "data": {
            "text/plain": [
              "<IPython.core.display.HTML object>"
            ],
            "text/html": [
              "Run data is saved locally in <code>/content/wandb/run-20250526_024004-gflfpyxh</code>"
            ]
          },
          "metadata": {}
        },
        {
          "output_type": "display_data",
          "data": {
            "text/plain": [
              "<IPython.core.display.HTML object>"
            ],
            "text/html": [
              "Syncing run <strong><a href='https://wandb.ai/cleandersilva-portal-puc-campinas/huggingface/runs/gflfpyxh' target=\"_blank\">upbeat-aardvark-10</a></strong> to <a href='https://wandb.ai/cleandersilva-portal-puc-campinas/huggingface' target=\"_blank\">Weights & Biases</a> (<a href='https://wandb.me/developer-guide' target=\"_blank\">docs</a>)<br>"
            ]
          },
          "metadata": {}
        },
        {
          "output_type": "display_data",
          "data": {
            "text/plain": [
              "<IPython.core.display.HTML object>"
            ],
            "text/html": [
              " View project at <a href='https://wandb.ai/cleandersilva-portal-puc-campinas/huggingface' target=\"_blank\">https://wandb.ai/cleandersilva-portal-puc-campinas/huggingface</a>"
            ]
          },
          "metadata": {}
        },
        {
          "output_type": "display_data",
          "data": {
            "text/plain": [
              "<IPython.core.display.HTML object>"
            ],
            "text/html": [
              " View run at <a href='https://wandb.ai/cleandersilva-portal-puc-campinas/huggingface/runs/gflfpyxh' target=\"_blank\">https://wandb.ai/cleandersilva-portal-puc-campinas/huggingface/runs/gflfpyxh</a>"
            ]
          },
          "metadata": {}
        },
        {
          "output_type": "display_data",
          "data": {
            "text/plain": [
              "<IPython.core.display.HTML object>"
            ],
            "text/html": [
              "\n",
              "    <div>\n",
              "      \n",
              "      <progress value='4998' max='4998' style='width:300px; height:20px; vertical-align: middle;'></progress>\n",
              "      [4998/4998 11:29, Epoch 3/3]\n",
              "    </div>\n",
              "    <table border=\"1\" class=\"dataframe\">\n",
              "  <thead>\n",
              " <tr style=\"text-align: left;\">\n",
              "      <th>Epoch</th>\n",
              "      <th>Training Loss</th>\n",
              "      <th>Validation Loss</th>\n",
              "    </tr>\n",
              "  </thead>\n",
              "  <tbody>\n",
              "    <tr>\n",
              "      <td>1</td>\n",
              "      <td>0.190800</td>\n",
              "      <td>0.181100</td>\n",
              "    </tr>\n",
              "    <tr>\n",
              "      <td>2</td>\n",
              "      <td>0.149800</td>\n",
              "      <td>0.173250</td>\n",
              "    </tr>\n",
              "    <tr>\n",
              "      <td>3</td>\n",
              "      <td>0.122400</td>\n",
              "      <td>0.200240</td>\n",
              "    </tr>\n",
              "  </tbody>\n",
              "</table><p>"
            ]
          },
          "metadata": {}
        },
        {
          "output_type": "stream",
          "name": "stderr",
          "text": [
            "[I 2025-05-26 02:51:35,579] Trial 2 finished with value: 0.20023983716964722 and parameters: {'learning_rate': 1.2721865183729507e-05, 'per_device_train_batch_size': 16, 'num_train_epochs': 3, 'weight_decay': 0.11310079021892039, 'gradient_accumulation_steps': 1}. Best is trial 2 with value: 0.20023983716964722.\n",
            "Some weights of BertForSequenceClassification were not initialized from the model checkpoint at neuralmind/bert-base-portuguese-cased and are newly initialized: ['classifier.bias', 'classifier.weight']\n",
            "You should probably TRAIN this model on a down-stream task to be able to use it for predictions and inference.\n"
          ]
        },
        {
          "output_type": "display_data",
          "data": {
            "text/plain": [
              "<IPython.core.display.HTML object>"
            ],
            "text/html": []
          },
          "metadata": {}
        },
        {
          "output_type": "display_data",
          "data": {
            "text/plain": [
              "<IPython.core.display.HTML object>"
            ],
            "text/html": [
              "<br>    <style><br>        .wandb-row {<br>            display: flex;<br>            flex-direction: row;<br>            flex-wrap: wrap;<br>            justify-content: flex-start;<br>            width: 100%;<br>        }<br>        .wandb-col {<br>            display: flex;<br>            flex-direction: column;<br>            flex-basis: 100%;<br>            flex: 1;<br>            padding: 10px;<br>        }<br>    </style><br><div class=\"wandb-row\"><div class=\"wandb-col\"><h3>Run history:</h3><br/><table class=\"wandb\"><tr><td>eval/loss</td><td>▃▁█</td></tr><tr><td>eval/runtime</td><td>█▄▁</td></tr><tr><td>eval/samples_per_second</td><td>▁▅█</td></tr><tr><td>eval/steps_per_second</td><td>▁▄█</td></tr><tr><td>train/epoch</td><td>▁▂▃▃▃▄▅▅▆▆▇██</td></tr><tr><td>train/global_step</td><td>▁▂▃▃▃▄▅▅▆▆▇██</td></tr><tr><td>train/grad_norm</td><td>▂▆▄▂▁▃▁▁█</td></tr><tr><td>train/learning_rate</td><td>█▇▆▅▅▄▃▂▁</td></tr><tr><td>train/loss</td><td>█▅▅▃▂▃▂▁▁</td></tr></table><br/></div><div class=\"wandb-col\"><h3>Run summary:</h3><br/><table class=\"wandb\"><tr><td>eval/loss</td><td>0.20024</td></tr><tr><td>eval/runtime</td><td>6.0333</td></tr><tr><td>eval/samples_per_second</td><td>631.167</td></tr><tr><td>eval/steps_per_second</td><td>9.945</td></tr><tr><td>total_flos</td><td>5260116218757120.0</td></tr><tr><td>train/epoch</td><td>3</td></tr><tr><td>train/global_step</td><td>4998</td></tr><tr><td>train/grad_norm</td><td>14.54717</td></tr><tr><td>train/learning_rate</td><td>0.0</td></tr><tr><td>train/loss</td><td>0.1224</td></tr><tr><td>train_loss</td><td>0.15903</td></tr><tr><td>train_runtime</td><td>690.5937</td></tr><tr><td>train_samples_per_second</td><td>115.796</td></tr><tr><td>train_steps_per_second</td><td>7.237</td></tr></table><br/></div></div>"
            ]
          },
          "metadata": {}
        },
        {
          "output_type": "display_data",
          "data": {
            "text/plain": [
              "<IPython.core.display.HTML object>"
            ],
            "text/html": [
              " View run <strong style=\"color:#cdcd00\">upbeat-aardvark-10</strong> at: <a href='https://wandb.ai/cleandersilva-portal-puc-campinas/huggingface/runs/gflfpyxh' target=\"_blank\">https://wandb.ai/cleandersilva-portal-puc-campinas/huggingface/runs/gflfpyxh</a><br> View project at: <a href='https://wandb.ai/cleandersilva-portal-puc-campinas/huggingface' target=\"_blank\">https://wandb.ai/cleandersilva-portal-puc-campinas/huggingface</a><br>Synced 5 W&B file(s), 0 media file(s), 0 artifact file(s) and 0 other file(s)"
            ]
          },
          "metadata": {}
        },
        {
          "output_type": "display_data",
          "data": {
            "text/plain": [
              "<IPython.core.display.HTML object>"
            ],
            "text/html": [
              "Find logs at: <code>./wandb/run-20250526_024004-gflfpyxh/logs</code>"
            ]
          },
          "metadata": {}
        },
        {
          "output_type": "display_data",
          "data": {
            "text/plain": [
              "<IPython.core.display.HTML object>"
            ],
            "text/html": [
              "Tracking run with wandb version 0.19.11"
            ]
          },
          "metadata": {}
        },
        {
          "output_type": "display_data",
          "data": {
            "text/plain": [
              "<IPython.core.display.HTML object>"
            ],
            "text/html": [
              "Run data is saved locally in <code>/content/wandb/run-20250526_025137-6iqt5tre</code>"
            ]
          },
          "metadata": {}
        },
        {
          "output_type": "display_data",
          "data": {
            "text/plain": [
              "<IPython.core.display.HTML object>"
            ],
            "text/html": [
              "Syncing run <strong><a href='https://wandb.ai/cleandersilva-portal-puc-campinas/huggingface/runs/6iqt5tre' target=\"_blank\">major-cosmos-11</a></strong> to <a href='https://wandb.ai/cleandersilva-portal-puc-campinas/huggingface' target=\"_blank\">Weights & Biases</a> (<a href='https://wandb.me/developer-guide' target=\"_blank\">docs</a>)<br>"
            ]
          },
          "metadata": {}
        },
        {
          "output_type": "display_data",
          "data": {
            "text/plain": [
              "<IPython.core.display.HTML object>"
            ],
            "text/html": [
              " View project at <a href='https://wandb.ai/cleandersilva-portal-puc-campinas/huggingface' target=\"_blank\">https://wandb.ai/cleandersilva-portal-puc-campinas/huggingface</a>"
            ]
          },
          "metadata": {}
        },
        {
          "output_type": "display_data",
          "data": {
            "text/plain": [
              "<IPython.core.display.HTML object>"
            ],
            "text/html": [
              " View run at <a href='https://wandb.ai/cleandersilva-portal-puc-campinas/huggingface/runs/6iqt5tre' target=\"_blank\">https://wandb.ai/cleandersilva-portal-puc-campinas/huggingface/runs/6iqt5tre</a>"
            ]
          },
          "metadata": {}
        },
        {
          "output_type": "display_data",
          "data": {
            "text/plain": [
              "<IPython.core.display.HTML object>"
            ],
            "text/html": [
              "\n",
              "    <div>\n",
              "      \n",
              "      <progress value='2499' max='2499' style='width:300px; height:20px; vertical-align: middle;'></progress>\n",
              "      [2499/2499 09:08, Epoch 3/3]\n",
              "    </div>\n",
              "    <table border=\"1\" class=\"dataframe\">\n",
              "  <thead>\n",
              " <tr style=\"text-align: left;\">\n",
              "      <th>Epoch</th>\n",
              "      <th>Training Loss</th>\n",
              "      <th>Validation Loss</th>\n",
              "    </tr>\n",
              "  </thead>\n",
              "  <tbody>\n",
              "    <tr>\n",
              "      <td>1</td>\n",
              "      <td>0.204800</td>\n",
              "      <td>0.164147</td>\n",
              "    </tr>\n",
              "    <tr>\n",
              "      <td>2</td>\n",
              "      <td>0.127500</td>\n",
              "      <td>0.154048</td>\n",
              "    </tr>\n",
              "    <tr>\n",
              "      <td>3</td>\n",
              "      <td>0.108400</td>\n",
              "      <td>0.188663</td>\n",
              "    </tr>\n",
              "  </tbody>\n",
              "</table><p>"
            ]
          },
          "metadata": {}
        },
        {
          "output_type": "stream",
          "name": "stderr",
          "text": [
            "[I 2025-05-26 03:00:47,863] Trial 3 finished with value: 0.1886626034975052 and parameters: {'learning_rate': 3.9853543236151584e-05, 'per_device_train_batch_size': 32, 'num_train_epochs': 3, 'weight_decay': 0.0874112051962272, 'gradient_accumulation_steps': 1}. Best is trial 2 with value: 0.20023983716964722.\n",
            "Some weights of BertForSequenceClassification were not initialized from the model checkpoint at neuralmind/bert-base-portuguese-cased and are newly initialized: ['classifier.bias', 'classifier.weight']\n",
            "You should probably TRAIN this model on a down-stream task to be able to use it for predictions and inference.\n"
          ]
        },
        {
          "output_type": "display_data",
          "data": {
            "text/plain": [
              "<IPython.core.display.HTML object>"
            ],
            "text/html": []
          },
          "metadata": {}
        },
        {
          "output_type": "display_data",
          "data": {
            "text/plain": [
              "<IPython.core.display.HTML object>"
            ],
            "text/html": [
              "<br>    <style><br>        .wandb-row {<br>            display: flex;<br>            flex-direction: row;<br>            flex-wrap: wrap;<br>            justify-content: flex-start;<br>            width: 100%;<br>        }<br>        .wandb-col {<br>            display: flex;<br>            flex-direction: column;<br>            flex-basis: 100%;<br>            flex: 1;<br>            padding: 10px;<br>        }<br>    </style><br><div class=\"wandb-row\"><div class=\"wandb-col\"><h3>Run history:</h3><br/><table class=\"wandb\"><tr><td>eval/loss</td><td>▃▁█</td></tr><tr><td>eval/runtime</td><td>▁▅█</td></tr><tr><td>eval/samples_per_second</td><td>█▄▁</td></tr><tr><td>eval/steps_per_second</td><td>█▄▁</td></tr><tr><td>train/epoch</td><td>▁▂▃▅▅▆██</td></tr><tr><td>train/global_step</td><td>▁▂▃▅▅▆██</td></tr><tr><td>train/grad_norm</td><td>█▇▁▆</td></tr><tr><td>train/learning_rate</td><td>█▆▃▁</td></tr><tr><td>train/loss</td><td>█▅▂▁</td></tr></table><br/></div><div class=\"wandb-col\"><h3>Run summary:</h3><br/><table class=\"wandb\"><tr><td>eval/loss</td><td>0.18866</td></tr><tr><td>eval/runtime</td><td>6.0403</td></tr><tr><td>eval/samples_per_second</td><td>630.436</td></tr><tr><td>eval/steps_per_second</td><td>9.933</td></tr><tr><td>total_flos</td><td>5260116218757120.0</td></tr><tr><td>train/epoch</td><td>3</td></tr><tr><td>train/global_step</td><td>2499</td></tr><tr><td>train/grad_norm</td><td>1.12531</td></tr><tr><td>train/learning_rate</td><td>1e-05</td></tr><tr><td>train/loss</td><td>0.1084</td></tr><tr><td>train_loss</td><td>0.13824</td></tr><tr><td>train_runtime</td><td>549.6049</td></tr><tr><td>train_samples_per_second</td><td>145.501</td></tr><tr><td>train_steps_per_second</td><td>4.547</td></tr></table><br/></div></div>"
            ]
          },
          "metadata": {}
        },
        {
          "output_type": "display_data",
          "data": {
            "text/plain": [
              "<IPython.core.display.HTML object>"
            ],
            "text/html": [
              " View run <strong style=\"color:#cdcd00\">major-cosmos-11</strong> at: <a href='https://wandb.ai/cleandersilva-portal-puc-campinas/huggingface/runs/6iqt5tre' target=\"_blank\">https://wandb.ai/cleandersilva-portal-puc-campinas/huggingface/runs/6iqt5tre</a><br> View project at: <a href='https://wandb.ai/cleandersilva-portal-puc-campinas/huggingface' target=\"_blank\">https://wandb.ai/cleandersilva-portal-puc-campinas/huggingface</a><br>Synced 5 W&B file(s), 0 media file(s), 0 artifact file(s) and 0 other file(s)"
            ]
          },
          "metadata": {}
        },
        {
          "output_type": "display_data",
          "data": {
            "text/plain": [
              "<IPython.core.display.HTML object>"
            ],
            "text/html": [
              "Find logs at: <code>./wandb/run-20250526_025137-6iqt5tre/logs</code>"
            ]
          },
          "metadata": {}
        },
        {
          "output_type": "display_data",
          "data": {
            "text/plain": [
              "<IPython.core.display.HTML object>"
            ],
            "text/html": [
              "Tracking run with wandb version 0.19.11"
            ]
          },
          "metadata": {}
        },
        {
          "output_type": "display_data",
          "data": {
            "text/plain": [
              "<IPython.core.display.HTML object>"
            ],
            "text/html": [
              "Run data is saved locally in <code>/content/wandb/run-20250526_030049-hm44mmv1</code>"
            ]
          },
          "metadata": {}
        },
        {
          "output_type": "display_data",
          "data": {
            "text/plain": [
              "<IPython.core.display.HTML object>"
            ],
            "text/html": [
              "Syncing run <strong><a href='https://wandb.ai/cleandersilva-portal-puc-campinas/huggingface/runs/hm44mmv1' target=\"_blank\">glowing-wood-12</a></strong> to <a href='https://wandb.ai/cleandersilva-portal-puc-campinas/huggingface' target=\"_blank\">Weights & Biases</a> (<a href='https://wandb.me/developer-guide' target=\"_blank\">docs</a>)<br>"
            ]
          },
          "metadata": {}
        },
        {
          "output_type": "display_data",
          "data": {
            "text/plain": [
              "<IPython.core.display.HTML object>"
            ],
            "text/html": [
              " View project at <a href='https://wandb.ai/cleandersilva-portal-puc-campinas/huggingface' target=\"_blank\">https://wandb.ai/cleandersilva-portal-puc-campinas/huggingface</a>"
            ]
          },
          "metadata": {}
        },
        {
          "output_type": "display_data",
          "data": {
            "text/plain": [
              "<IPython.core.display.HTML object>"
            ],
            "text/html": [
              " View run at <a href='https://wandb.ai/cleandersilva-portal-puc-campinas/huggingface/runs/hm44mmv1' target=\"_blank\">https://wandb.ai/cleandersilva-portal-puc-campinas/huggingface/runs/hm44mmv1</a>"
            ]
          },
          "metadata": {}
        },
        {
          "output_type": "display_data",
          "data": {
            "text/plain": [
              "<IPython.core.display.HTML object>"
            ],
            "text/html": [
              "\n",
              "    <div>\n",
              "      \n",
              "      <progress value='1666' max='1666' style='width:300px; height:20px; vertical-align: middle;'></progress>\n",
              "      [1666/1666 07:56, Epoch 2/2]\n",
              "    </div>\n",
              "    <table border=\"1\" class=\"dataframe\">\n",
              "  <thead>\n",
              " <tr style=\"text-align: left;\">\n",
              "      <th>Epoch</th>\n",
              "      <th>Training Loss</th>\n",
              "      <th>Validation Loss</th>\n",
              "    </tr>\n",
              "  </thead>\n",
              "  <tbody>\n",
              "    <tr>\n",
              "      <td>1</td>\n",
              "      <td>0.218000</td>\n",
              "      <td>0.162341</td>\n",
              "    </tr>\n",
              "    <tr>\n",
              "      <td>2</td>\n",
              "      <td>0.138200</td>\n",
              "      <td>0.164295</td>\n",
              "    </tr>\n",
              "  </tbody>\n",
              "</table><p>"
            ]
          },
          "metadata": {}
        },
        {
          "output_type": "stream",
          "name": "stderr",
          "text": [
            "[I 2025-05-26 03:08:48,711] Trial 4 finished with value: 0.1642954796552658 and parameters: {'learning_rate': 1.3720528430905662e-05, 'per_device_train_batch_size': 8, 'num_train_epochs': 2, 'weight_decay': 0.24199327150893538, 'gradient_accumulation_steps': 4}. Best is trial 2 with value: 0.20023983716964722.\n"
          ]
        },
        {
          "output_type": "stream",
          "name": "stdout",
          "text": [
            "\n",
            "Melhores hiperparâmetros encontrados:\n",
            "learning_rate: 1.2721865183729507e-05\n",
            "per_device_train_batch_size: 16\n",
            "num_train_epochs: 3\n",
            "weight_decay: 0.11310079021892039\n",
            "gradient_accumulation_steps: 1\n"
          ]
        }
      ]
    },
    {
      "cell_type": "markdown",
      "source": [
        "##Utilizando o Modelo e a API"
      ],
      "metadata": {
        "id": "Oi2LANNtHDhn"
      }
    },
    {
      "cell_type": "code",
      "source": [
        "pip install fpdf"
      ],
      "metadata": {
        "id": "CUIGt1fR0CP_",
        "colab": {
          "base_uri": "https://localhost:8080/"
        },
        "outputId": "bfba910b-f690-412b-cf01-fcd20d39eecb"
      },
      "execution_count": null,
      "outputs": [
        {
          "output_type": "stream",
          "name": "stdout",
          "text": [
            "Collecting fpdf\n",
            "  Downloading fpdf-1.7.2.tar.gz (39 kB)\n",
            "  Preparing metadata (setup.py) ... \u001b[?25l\u001b[?25hdone\n",
            "Building wheels for collected packages: fpdf\n",
            "  Building wheel for fpdf (setup.py) ... \u001b[?25l\u001b[?25hdone\n",
            "  Created wheel for fpdf: filename=fpdf-1.7.2-py2.py3-none-any.whl size=40704 sha256=25af2d0882f3a2815509c7ced48b376fba8956a16bd98c7deff7cc5ffe725443\n",
            "  Stored in directory: /root/.cache/pip/wheels/65/4f/66/bbda9866da446a72e206d6484cd97381cbc7859a7068541c36\n",
            "Successfully built fpdf\n",
            "Installing collected packages: fpdf\n",
            "Successfully installed fpdf-1.7.2\n"
          ]
        }
      ]
    },
    {
      "cell_type": "code",
      "source": [
        "import requests\n",
        "import pandas as pd\n",
        "import matplotlib.pyplot as plt\n",
        "import matplotlib.dates as mdates\n",
        "from fpdf import FPDF\n",
        "from datetime import datetime\n",
        "from transformers import BertTokenizer, BertForSequenceClassification\n",
        "import torch\n",
        "import os\n",
        "from google.colab import drive\n",
        "drive.mount('/content/drive')"
      ],
      "metadata": {
        "id": "uOMeTGvEHG7o",
        "colab": {
          "base_uri": "https://localhost:8080/"
        },
        "outputId": "b3578584-453a-4fc8-f77e-26394b756e89"
      },
      "execution_count": null,
      "outputs": [
        {
          "output_type": "stream",
          "name": "stdout",
          "text": [
            "Mounted at /content/drive\n"
          ]
        }
      ]
    },
    {
      "cell_type": "code",
      "source": [
        "ig_user_id = \"17841449666813574\"\n",
        "app_id = \"1750857045465243\"\n",
        "app_secret = \"3879b6aeb6718a852a5bed85f1ab5fde\"\n",
        "user_access_token = \"EAAY4ZASwZCWJsBO9DOETVck86K7likqssFJ88bX96jfn00zEr2QWY40D1kqpJ9BtfDtGMCwZBr2C1iYj7mVPTPSQjIZA5p3shN7WTPyyYB9xpBlCkvmz23uFrL6iTz15hUl0d7ZAGwcZA0jicA0j1yghUofENIClhf70xzMwlrbVvJb8b0SLyPg9fcUvK4Jwgw09kC2rplqc0Ds0H2mAZDZD\"\n",
        "\n",
        "url = f\"https://graph.facebook.com/v17.0/oauth/access_token?grant_type=fb_exchange_token&client_id={app_id}&client_secret={app_secret}&fb_exchange_token={user_access_token}\"\n",
        "response = requests.get(url)\n",
        "long_access_token = response.json()[\"access_token\"]\n",
        "\n",
        "base_url = f\"https://graph.facebook.com/v17.0/{ig_user_id}/media?fields=id,caption,timestamp&access_token={long_access_token}\"\n",
        "\n",
        "if not os.path.exists('graficos'):\n",
        "    os.makedirs('graficos')"
      ],
      "metadata": {
        "id": "EB4U_ShlIKa3"
      },
      "execution_count": null,
      "outputs": []
    },
    {
      "cell_type": "code",
      "source": [
        "def coletar_comentarios_por_publicacao():\n",
        "    publicacoes = []\n",
        "    response = requests.get(base_url)\n",
        "    if response.status_code == 200:\n",
        "        data = response.json()['data']\n",
        "        for item in data:\n",
        "            media_id = item['id']\n",
        "            caption = item.get('caption', 'Sem legenda')\n",
        "            timestamp = item.get('timestamp', None)\n",
        "\n",
        "            comments_url = f'https://graph.facebook.com/v17.0/{media_id}/comments?fields=id,text,timestamp,username&access_token={long_access_token}'\n",
        "            comments_response = requests.get(comments_url)\n",
        "\n",
        "            comentarios = []\n",
        "            if comments_response.status_code == 200:\n",
        "                comments_data = comments_response.json().get('data', [])\n",
        "                comentarios = [comment['text'] for comment in comments_data]\n",
        "            else:\n",
        "                print(f'Erro ao buscar comentários da mídia {media_id}')\n",
        "\n",
        "            publicacoes.append({\n",
        "                'media_id': media_id,\n",
        "                'caption': caption,\n",
        "                'comentarios': comentarios,\n",
        "                'timestamp': timestamp\n",
        "            })\n",
        "    else:\n",
        "        print('Erro ao buscar mídias:', response.text)\n",
        "\n",
        "    return publicacoes"
      ],
      "metadata": {
        "id": "0WNEh0pEJIvv"
      },
      "execution_count": null,
      "outputs": []
    },
    {
      "cell_type": "code",
      "source": [
        "model = BertForSequenceClassification.from_pretrained(\"/content/drive/MyDrive/sentiment_model\")\n",
        "tokenizer = BertTokenizer.from_pretrained(\"/content/drive/MyDrive/sentiment_model\")"
      ],
      "metadata": {
        "id": "zQbm1TV1Qrq4"
      },
      "execution_count": null,
      "outputs": []
    },
    {
      "cell_type": "code",
      "source": [
        "def analisar_sentimentos(comentarios):\n",
        "    resultados = []\n",
        "    if comentarios:\n",
        "        encodings = tokenizer(comentarios, padding=True, truncation=True, max_length=128, return_tensors=\"pt\")\n",
        "        with torch.no_grad():\n",
        "            outputs = model(**encodings)\n",
        "            predictions = outputs.logits.argmax(dim=-1)\n",
        "\n",
        "        for comentario, pred in zip(comentarios, predictions):\n",
        "            sentimento = 'Positivo' if pred.item() == 1 else 'Negativo'\n",
        "            resultados.append((comentario, sentimento))\n",
        "    return resultados"
      ],
      "metadata": {
        "id": "OesD4VvtQ7nY"
      },
      "execution_count": null,
      "outputs": []
    },
    {
      "cell_type": "code",
      "source": [
        "def calcular_metricas(resultados):\n",
        "    total = len(resultados)\n",
        "    positivos = sum(1 for _, s in resultados if s == 'Positivo')\n",
        "    negativos = total - positivos\n",
        "    porcentagem_positivos = positivos / total * 100 if total else 0\n",
        "    porcentagem_negativos = negativos / total * 100 if total else 0\n",
        "    return positivos, negativos, porcentagem_positivos, porcentagem_negativos"
      ],
      "metadata": {
        "id": "hhvnWPxuUOQp"
      },
      "execution_count": null,
      "outputs": []
    },
    {
      "cell_type": "code",
      "source": [
        "def gerar_grafico_publicacao(caption, positivos, negativos, media_id):\n",
        "    labels = ['Positivos', 'Negativos']\n",
        "    sizes = [positivos, negativos]\n",
        "    colors = ['#4CAF50', '#F44336']\n",
        "\n",
        "    fig, ax = plt.subplots()\n",
        "    ax.pie(sizes, labels=labels, autopct='%1.1f%%', startangle=90, colors=colors)\n",
        "    ax.axis('equal')\n",
        "    plt.title(caption[:50] + '...')\n",
        "    caminho = f'graficos/{media_id}.png'\n",
        "    plt.savefig(caminho)\n",
        "    plt.close()\n",
        "    return caminho\n",
        "\n",
        "\"\"\"\n",
        "def gerar_grafico_geral(total_positivos, total_negativos):\n",
        "    labels = ['Positivos', 'Negativos']\n",
        "    sizes = [total_positivos, total_negativos]\n",
        "    colors = ['#4CAF50', '#F44336']\n",
        "\n",
        "    fig, ax = plt.subplots()\n",
        "    ax.pie(sizes, labels=labels, autopct='%1.1f%%', startangle=90, colors=colors)\n",
        "    ax.axis('equal')\n",
        "    plt.title('Distribuição Geral dos Sentimentos')\n",
        "    caminho = 'graficos/geral.png'\n",
        "    plt.savefig(caminho)\n",
        "    plt.close()\n",
        "    return caminho\n",
        "\"\"\"\n",
        "\n",
        "def gerar_grafico_temporal(resultados_temporais):\n",
        "    if not resultados_temporais:\n",
        "        return None\n",
        "\n",
        "    resultados_ordenados = sorted(resultados_temporais, key=lambda x: x['data'])\n",
        "\n",
        "    datas = [\n",
        "      datetime.strptime(item['data'], '%Y-%m-%dT%H:%M:%S%z').strftime('%d/%m/%Y %H:%M')\n",
        "      for item in resultados_ordenados\n",
        "    ]\n",
        "\n",
        "    porcentagens = [item['pct_positivos'] for item in resultados_ordenados]\n",
        "    legends = [item['caption'][:30] + '...' if len(item['caption']) > 30 else item['caption'] for item in resultados_ordenados]\n",
        "\n",
        "    fig, ax = plt.subplots(figsize=(12, 6))\n",
        "    ax.plot(datas, porcentagens, marker='o', color='#2196F3', linestyle='-')\n",
        "\n",
        "    for i, txt in enumerate(legends):\n",
        "        ax.annotate(txt, (i, porcentagens[i]), textcoords=\"offset points\", xytext=(0,10),\n",
        "                    ha='center', fontsize=8, rotation=45)\n",
        "\n",
        "    ax.set_xticks(datas)\n",
        "    ax.set_xticklabels(datas, rotation=45, ha='right', fontsize=8)\n",
        "\n",
        "    ax.set_title('Evolução da Avaliação das Publicações ao Longo do Tempo')\n",
        "    ax.set_xlabel('Data da Publicação')\n",
        "    ax.set_ylabel('% de Comentários Positivos')\n",
        "    ax.set_ylim(0, 100)\n",
        "    ax.grid(True)\n",
        "\n",
        "    caminho = 'graficos/grafico_temporal.png'\n",
        "    plt.tight_layout()\n",
        "    plt.savefig(caminho)\n",
        "    plt.close()\n",
        "    return caminho\n"
      ],
      "metadata": {
        "id": "cTDDtRQnUSiZ"
      },
      "execution_count": null,
      "outputs": []
    },
    {
      "cell_type": "code",
      "source": [
        "#Função utilizada na solução provisória para os emojis dando erro ao gerar o pdf\n",
        "def remove_emojis(text):\n",
        "    return text.encode('latin-1', 'ignore').decode('latin-1')"
      ],
      "metadata": {
        "id": "BKsIFrFaIWQp"
      },
      "execution_count": null,
      "outputs": []
    },
    {
      "cell_type": "code",
      "source": [
        "class PDFRelatorio(FPDF):\n",
        "    def header(self):\n",
        "        self.set_font('Arial', 'B', 16)\n",
        "        self.cell(0, 10, 'Relatório de Análise de Sentimentos - Instagram', 0, 1, 'C')\n",
        "        self.ln(10)\n",
        "\n",
        "    def footer(self):\n",
        "        self.set_y(-15)\n",
        "        self.set_font('Arial', 'I', 8)\n",
        "        self.cell(0, 10, f'Página {self.page_no()}', 0, 0, 'C')\n",
        "\n",
        "    def add_publicacao(self, caption, positivos, negativos, porcentagem_positivos, porcentagem_negativos, grafico_path):\n",
        "        self.set_font('Arial', 'B', 12)\n",
        "        #Solução provisória para os emojis\n",
        "        self.multi_cell(0, 10, remove_emojis(caption))\n",
        "        self.set_font('Arial', '', 12)\n",
        "        self.cell(0, 10, f'Positivos: {positivos} ({porcentagem_positivos:.2f}%)', 0, 1)\n",
        "        self.cell(0, 10, f'Negativos: {negativos} ({porcentagem_negativos:.2f}%)', 0, 1)\n",
        "        self.ln(3)\n",
        "        self.image(grafico_path, w=150)\n",
        "        self.ln(10)\n",
        "\n",
        "    def add_conclusao_geral(self, total_positivos, total_negativos, pct_positivos, pct_negativos, grafico_path):\n",
        "        self.add_page()\n",
        "        self.set_font('Arial', 'B', 14)\n",
        "        self.cell(0, 10, 'Resumo Geral', 0, 1, 'C')\n",
        "        self.ln(5)\n",
        "        self.set_font('Arial', '', 12)\n",
        "        self.cell(0, 10, f'Total de Comentários Positivos: {total_positivos} ({pct_positivos:.2f}%)', 0, 1)\n",
        "        self.cell(0, 10, f'Total de Comentários Negativos: {total_negativos} ({pct_negativos:.2f}%)', 0, 1)\n",
        "        self.ln(5)\n",
        "        self.image(grafico_path, w=150)\n",
        "        self.ln(10)\n",
        "\n",
        "        conclusao = 'Conclusão geral: '\n",
        "        if pct_positivos > 70:\n",
        "            conclusao += 'O perfil está muito bem avaliado!'\n",
        "        elif pct_positivos > 40:\n",
        "            conclusao += 'O perfil está com avaliação mista.'\n",
        "        else:\n",
        "            conclusao += 'O perfil está sendo mal avaliado.'\n",
        "\n",
        "        self.multi_cell(0, 10, conclusao)"
      ],
      "metadata": {
        "id": "piZ9pp2xUYLJ"
      },
      "execution_count": null,
      "outputs": []
    },
    {
      "cell_type": "markdown",
      "source": [
        "###Gerando o Relatório"
      ],
      "metadata": {
        "id": "mfAjQx_E7akr"
      }
    },
    {
      "cell_type": "code",
      "source": [
        "publicacoes = coletar_comentarios_por_publicacao()\n",
        "pdf = PDFRelatorio()\n",
        "pdf.add_page()\n",
        "\n",
        "print(publicacoes)\n",
        "\n",
        "total_resultados = []\n",
        "resultados_temporais = []\n",
        "\n",
        "total_positivos = 0\n",
        "total_negativos = 0\n",
        "\n",
        "for publicacao in publicacoes:\n",
        "    comentarios = publicacao['comentarios']\n",
        "    caption = publicacao['caption']\n",
        "    media_id = publicacao['media_id']\n",
        "\n",
        "    if comentarios:\n",
        "        resultados = analisar_sentimentos(comentarios)\n",
        "        positivos, negativos, pct_positivos, pct_negativos = calcular_metricas(resultados)\n",
        "        grafico_path = gerar_grafico_publicacao(caption, positivos, negativos, media_id)\n",
        "\n",
        "        pdf.add_publicacao(caption, positivos, negativos, pct_positivos, pct_negativos, grafico_path)\n",
        "\n",
        "        total_positivos += positivos\n",
        "        total_negativos += negativos\n",
        "        total_resultados.extend(resultados)\n",
        "\n",
        "        resultados_temporais.append({\n",
        "            'data': publicacao['timestamp'],\n",
        "            'pct_positivos': pct_positivos,\n",
        "            'caption': caption\n",
        "        })\n",
        "\n",
        "grafico_temporal_path = gerar_grafico_temporal(resultados_temporais)\n",
        "pct_total_positivos = total_positivos / (total_positivos + total_negativos) * 100 if (total_positivos + total_negativos) else 0\n",
        "pct_total_negativos = 100 - pct_total_positivos\n",
        "\n",
        "pdf.add_conclusao_geral(total_positivos, total_negativos, pct_total_positivos, pct_total_negativos, grafico_temporal_path)\n",
        "\n",
        "pdf.output('relatorio_sentimentos_instagram.pdf')"
      ],
      "metadata": {
        "id": "v0G3wOG3Uc3R",
        "colab": {
          "base_uri": "https://localhost:8080/",
          "height": 316
        },
        "outputId": "180c81d9-dbfa-4214-bf19-8b31c6c13d6f"
      },
      "execution_count": null,
      "outputs": [
        {
          "output_type": "stream",
          "name": "stdout",
          "text": [
            "[{'media_id': '17982061616675940', 'caption': 'O que esse negócio de I.A tá ficando bom em foto é brincadeira 😳', 'comentarios': ['Que lindosss❤️❤️', '❤️❤️❤️', 'A IA nao colocou aliança na sua foto 😠', 'Amei!! ❤️❤️', 'ta roubando o emprego do vasco', 'Legal que na terceira foto a Le não tá de olho fechado mas a IA entendeu que tava hahahaha', 'A Porsche virou fusca kkkkkkkk', 'show de bola🙌❤️', 'parece o dj oreia', 'ficou parecido irmão 👏👏'], 'timestamp': '2025-03-31T15:00:00+0000'}, {'media_id': '18487181953049729', 'caption': 'Obrigado por essa vista maravilhosa!! 🥹', 'comentarios': ['Kkkkkkkkkkkkk', '😂😂😂😂😂', '👏👏👏muito  bom', 'O que importa é a companhia!!', '😂😂😂', 'Nuussssss......deu ate medo 😂😂'], 'timestamp': '2025-01-06T16:19:11+0000'}, {'media_id': '18044393930191067', 'caption': 'Eu e você, você e eu ♥️', 'comentarios': ['👏👏👏👏👏👏👏👏👏', '🔥🔥🔥🔥🔥🔥kkkkk', '👏👏👏👏👏🔥🔥🔥🔥', '💘💘💘💘', 'linducos', 'Lindos amooooo ❤️❤️❤️', 'Seus lindos ❤️❤️', 'Lindicos', 'Meu tudinho', 'Te amo muito lindeza❤️❤️❤️'], 'timestamp': '2025-01-03T22:00:00+0000'}, {'media_id': '17942893244936864', 'caption': 'Como é bom viajar! 😂😂😂', 'comentarios': ['Rindo de nervoso', 'KKKKKKKKKK'], 'timestamp': '2025-01-01T15:14:17+0000'}, {'media_id': '18078186811539973', 'caption': 'Mais alguém aí não aguenta mais?! 😅😩', 'comentarios': ['😂😂😂', 'nao tanka 1 ano de clt', 'Estou em SAN Martin de los Andes . Frio p/ cacete', 'Muito eu 😂😂', 'Afinal a viagem foi legal ou não?'], 'timestamp': '2024-12-31T15:00:00+0000'}, {'media_id': '17864298684295236', 'caption': 'Como é esperar seu voo na Sala Vip da @nomadglobalapp? Vem comigo que eu te mostro! 💛\\n\\nEu e a minha namorada decidimos passar alguns dias fora do país e aproveitamos para esperar nosso voo na Sala Vio da Nomad no aeroporto de Guarulhos, não podia ser diferente, né?!\\n\\nQuer poder ter acesso a tudo isso que eu te mostrei no vídeo? Crie a sua conta internacional Nomad hoje e utilize o cupom STOCCO para garantir até 20 dólares de cashback!* 🤩\\n\\nNão perde tempo, vem ser Nomad! 💛\\n\\n*A sala vip é liberada para clientes Nível 2 Nomad e você pode ganhar até 20 dólares de cashback ao realizar a sua primeira operação de câmbio em até 15 dias da abertura da conta.\\n\\npubli', 'comentarios': ['👏👏👏👏👏👏', 'uauuuu', 'uauuuu!', 'Experiência incrível!  Muito obrigada @nomadglobalapp por todo o carinho e conforto! 💛💛💛', 'Salinha sinistra 🔥', '👏👏👏 picaaaaaaa', 'nomad > binomo @eversonzoio', 'amassaria essa mesa inteira', 'muiiito boa! obrigado @nomadglobalapp', 'Top demais 👏', 'Top hein 👏👏😍😍 ..... pode ja me dar essa manteiga de cacau q ganhou pq sei q nao usa 😁😁😁😁', 'Chocolate pra dormir eh amais kkkkkkkk', 'que gostosuras 👏', 'que chique achei melhor que a do mastercard'], 'timestamp': '2024-12-30T22:15:11+0000'}, {'media_id': '17999663492706726', 'caption': 'una coronita porfavorzito', 'comentarios': ['Na  ária👏👏👏👏', 'lindao ❤️', '👏👏👏👏', '👏👏👏👏', 'tão bonitinho, nem parece o ber', 'chiqueeee', 'ta mal 👏👏', 'uau bidus', 'acesso vip🔥', 'Uauuuuu hermoso ❤️😍😂😂😂', 'Que menino mais lindo!!!❤️❤️', 'Kkkk', 'Aindaaaa 😛✌🏻', 'Que hombre!', 'vuelasita também tema amorsito kkkkkk', 'manager 🔥', '😍😍😍😍😍😍😍😍😍😍😍😍😍', 'Te amo gostosito👏❤️', 'Uau gatinho'], 'timestamp': '2024-12-29T22:21:19+0000'}, {'media_id': '18082561189564865', 'caption': 'é nosso jeitinho de viajar, tá errado? 🤪 #reelsinstagram #viagem #reels', 'comentarios': ['Muito  legau  o  passeio', 'Isso é muito a gente kkkkk @maatheusvilela_', 'KKKKKKKKKKKKKKKK', 'Tb sou assim', '😂😂😂😂😂', '👏👏👏👏👏', 'Kkkkk', 'Kkkkkkkkk adorei', 'Kkkkkkkkkkkkk jovens jovens', 'Amei nossa viagem!', 'Eu devo ser a mãe de vocês…..😂😂', 'Kkkkkkkkkkkkk'], 'timestamp': '2024-12-28T22:24:36+0000'}, {'media_id': '17858794836302414', 'caption': '06.12 ♥️ postando só as nossas melhores fotos', 'comentarios': ['muito bom ver o amor de vcs!❤️❤️', '😍😍😍', 'Kkkkkkkkkk Deus abençoe vocês!! Feliz 1 ano! Amo vcs ❤️❤️❤️', 'Na ARIA 👏👏👏', 'Meus amores ❤️❤️', 'Tudinho', 'Te amo tanto❤️❤️❤️❤️❤️❤️❤️❤️❤️❤️❤️❤️❤️❤️', 'KKKKKKKKKKKK', 'Meu irmão bom dia Deus abençoe perdão pelo horário por gentileza eu posso tomar um minutinho da sua atenção'], 'timestamp': '2024-12-06T03:34:31+0000'}, {'media_id': '18321180199084064', 'caption': 'é sério levem eles!!!', 'comentarios': ['😂😂😂😂😂😂', 'KKKKKKKKKK ops'], 'timestamp': '2024-11-12T15:00:00+0000'}, {'media_id': '17910494946020255', 'caption': 'Achei perdido nos rascunhos! Tinha esquecido de postar essa nossa viagem para Brotas!! 😍❤️ #reels #reelsinstagram #viagem #casal #trip', 'comentarios': ['Ê  isso ai  na aria', 'lindossss ❤️', 'Q gays', '😍😍😍😍😍😍', 'Lindos ❤️❤️❤️❤️', '😍😍😍', 'Lindos ❤️❤️❤️❤️ amoooo', 'Lindos demais', 'Ahhh que lindos!!!!❤️'], 'timestamp': '2024-11-06T20:33:22+0000'}, {'media_id': '18072248605579629', 'caption': 'fim de semana em noronha, tá liberado?', 'comentarios': ['Fotao ber!!! ❤️❤️❤️', 'a loc tá errada, devia estar “localiza aí comédia” 🎭', 'vive bem e se diverte 👏👏', 'Te amo❤️', 'Que tumblr👏👏'], 'timestamp': '2024-10-06T16:16:52+0000'}, {'media_id': '18056109424766756', 'caption': 'Eu adorava quando isso acontecia KKKKKKKK', 'comentarios': ['😂😂😂😂😂😂😂😂😂', 'KKKKKKKKKKKKK', 'KKKKKKKKKKKKK', 'KKKKKKKKKKKKKKKKKK', 'IGUALL KAKAKKAKAKKAK', 'É assim mesmo 😂😂👏👏'], 'timestamp': '2024-09-14T15:00:00+0000'}, {'media_id': '18057739990689080', 'caption': 'Não era pra VOCÊ  tá dormindo não amigão! 🤦🏻\\u200d♂️', 'comentarios': ['i a música? descobriu o nome?', 'e o nome da música?', 'e o nome da música pae?', 'qual nome da música, meu patrão?', 'qual nome da música, meu campeão?', 'E so  freiar  que  acorda', '😂😂😂😂', 'qual nome da música, meu consagrado?', 'sair dps do almoço é foda', '😂😂😂', 'Pior que ja peguei uber com esse cara uma vez, toda vez isso, irresponsabilidade imensa!'], 'timestamp': '2024-09-13T15:00:00+0000'}, {'media_id': '17935237541793963', 'caption': 'Você pode não falar inglês, mas a Nomad fala por você.\\nAbra sua conta Nomad e viaje pelo mundo economizando com a cotação do câmbio comercial.\\nE aplicando o código de convidado STOCCO na abertura da conta, você ganha até 20 dólares de cashback na sua primeira operação de câmbio feita em até 15 dias da abertura da conta. É só clicar no link da BIO 😉\\n \\n - Aceito em mais de 180 países\\n- Atendimento 100% em português\\n- IOF de 1,1% muito mais barato do que cartão de crédito internacional - Cotação do câmbio comercial\\n- Segurança de não precisar levar dinheiro em espécie\\n- Cartão de débito internacional virtual e físico\\n\\n*publi*', 'comentarios': ['Vai  pra ARGENTINA', 'Hahaha me divirto com seis posts!!! Muito dez👏👏👏👏👏', '@leishikawavilela como assim vc tirou os cílios le????', '@leishikawavilela , vc cortou o cabelo? Tá meio diferente', 'Leticia ta tomando trembo', 'Muito bom!!! 😂😂😂', 'A Letícia 👩🏻😂😂😂😂', 'eu te amooooooo nomad', 'a leticia de camisa do brasil fica diferente ne', 'Bela publi', 'Mlk tu tá muito ator KKKKKKKKK', 'letícia tá diferente', 'A Nomad é mesmo incrível!! 😍😍😍'], 'timestamp': '2024-09-12T15:07:30+0000'}, {'media_id': '18054918988764426', 'caption': 'Manda para aquele amigo que passou aqui pra retirar o título 👀👀', 'comentarios': ['@pedro.eloii_', '@pedro.eloii_', '@pedro.eloii_'], 'timestamp': '2024-09-11T21:00:00+0000'}, {'media_id': '18132364018367165', 'caption': 'É SEMPRE assim kkkkkk', 'comentarios': ['Muito bom', 'As resenhas no Le carnê de peixê eram as melhores', 'batataixxxxxx', 'Kkkkkkk muito bom!👏', 'Ator e os krl', '🍸', 'saudades daquele 15 de setembro quando a gente saboreou aquela lagosta e aquele baião de dois no Témõs Lagostą Camarón', 'Vou te contratar .... rsrrs', 'Que isso gnt!??? Kkkkk', 'meu detetive preferido😮\\u200d💨😮\\u200d💨😮\\u200d💨', 'eu amo', 'é sempre assimmmmm kkkkkkkkkk', 'meu sonho e ir pra chupinguaia', 'Chupinguaia ta pocando em 😂👏', 'Peçanha é fod@ 😂', 'Igualzin AKAKKAKAAKAKAK'], 'timestamp': '2024-09-09T21:00:00+0000'}, {'media_id': '18032017490469795', 'caption': 'Eu não aguento mais essa vida do triguinho 😫😫 ib: @_eu_lucaxx', 'comentarios': ['Joga mais  20  contos', '😂😂😂', '😂😂😂', 'gera jogar mais 20', 'plataforma ta pagando muitoooo', 'mkkkkkkkkkkkkkkkkk', 'Só mais 20tin vai KAKAKAK', 'capeta com essa cara'], 'timestamp': '2024-09-07T15:00:00+0000'}, {'media_id': '17842787517309690', 'caption': 'Pov: eu sou o vizinho 😅', 'comentarios': ['KAKAKAKKAKA', 'kkkkkkkkkkkkkk sempre assim', 'todo dia isso'], 'timestamp': '2024-09-05T15:39:58+0000'}, {'media_id': '18460250785028287', 'caption': 'Eu admito, sou viciado em mentir 🙋🏻\\u200d♂️', 'comentarios': ['😂😂😂😂😂', 'Kkkkk adorei as mentiras😂😂😂😂', 'A Demi HAHAHAHAHAHAHAHAHA', 'parabens', 'KKKKKKKKK pior q eu ri desse', '😂😂', 'Guerra em Goiás foi foda kkkkkkkk', 'demi lovato kkkkkkkkkkkkkkkk', '😂😂', 'ta foda, Demi', '😂😂😂', 'KKKKKKKKKKKKKKKKKK', '📍Chupinguaia - RO', 'pior que a historia verdadeira da placa é triste', 'KAKAKAKAKAKAK', 'Que isso demo lovato, em chupinguaia é osso 😂😂😂'], 'timestamp': '2024-09-04T15:00:00+0000'}, {'media_id': '18024718721110765', 'caption': 'Todo mundo conhece alguém assim KKKKKKKKKK', 'comentarios': ['Reclama pro xandao 😂', '😢', '😮😮', 'KKKKKKKKKKKKKK', 'mds', 'KKKKKKKKKKKKKKKKKKKK SOS', '😂😂😂', '@gabipianca', '@justochh'], 'timestamp': '2024-08-31T20:29:42+0000'}, {'media_id': '18002749895419060', 'caption': 'Sabe aquela fome que bate de madrugada?! \\n\\nA BOLD é a barrinha perfeita para te salvar dessa situação terrível! É só esquentar ela por 15 a 20 segundos no microondas e tá pronta! Fica uma delícia!\\n\\nGaranta as suas barrinhas utilizando o cupom STOCCO na hora do pagamento ou clicando no link da minha bio! 😍 Experimenta por aí @boldsnacks\\n\\n*publi* #boldsnacks #boldsalva', 'comentarios': ['Isso não me slknents de madrugada não... aliás  geralmente nem como nada de madrugada', 'Altão e não viu essa linda barrinha emcima da geladeira, abre o olho malandro', 'fica bem suculenta quando coloca no microondas, amo!!', 'eu amoooo essa barrinha!!🤤🤤🤤', '@gabi2cordeiro assista isso 😮😮😮', 'que delícia! a barra tambem parece super boa.', 'A melhor q ja comi na vida 😋😋', 'Delícia!', 'Essa barrinha da Bold é muito boa!!!! Ja comprei a minha com desconto!!!', 'que fome de bold 😋'], 'timestamp': '2024-07-31T15:00:00+0000'}, {'media_id': '17928069383795956', 'caption': 'Quem aí também pegaria só a barrinha da BOLD?? 😅\\n\\nA BOLD é uma barrinha rica em proteína e muito sabor. Perfeita pra quem quer se alimentar de forma saudável, praticar exercícios ou só comer um snack gostoso mesmo!\\n\\nGaranta as suas barrinhas utilizando o cupom STOCCO na hora do pagamento ou clicando no link da minha bio! 😍 Experimenta por aí! 😋 @boldsnacks \\n\\n*publi* #boldsnacks #boldsalva', 'comentarios': ['bold é vida 🙌', 'ISSO  QUE  E GOSTAR  DR  CHOCOLAYE', 'O resto do presente manda aqui kkkk', 'fodaaaaa', 'Adorooooooo 👏👏👏👏', 'minha favorita!!! ❤️❤️❤️', 'amei o presente🥰🥰🥰', 'Kkkkkkk', 'Gosto da Brownie', 'opa percebi que seu perfil se qualifica para participar da', 'kkkkkk é disso que elas gostam', 'Gênio kkkkkkkk', 'Kkkkkkkkkkkkk', 'pior que a barra e legal mesmo!', '😂👏', 'Essa ai é a top 2 pra mim, so perde pra de', 'KKKKKKKKKKKKKKKKKKKKK eu amei!', 'diferenciado', 'Genio do mkt', 'Eu teria escolhido igual! 😋😋😋', 'Kkkkkkkkkkk muita humildade', 'Kkkkk essa barrinha é boa mesmo!!!!'], 'timestamp': '2024-07-27T15:00:00+0000'}, {'media_id': '18053683015687917', 'caption': \"McDonald's 1 Estrela VS McDonald's 5 Estrelas! 🍔⭐️\", 'comentarios': ['comi muito nesse mc às quartas feiras', 'Moito  BOM', 'Onde vocês vem as a avaliações?', 'Coragem ..tô fora', 'Eu acho que eu ia pular de felicidade', 'Todos é 5 estrela pq é de SJC 😂😂😂', 'é o neox que te copia, ou voce que copia o neox?', '@mcdonalds_br', '👏👏👏👏', 'quero um combro do big mc', '😋😋😋', 'prefiro o girafas, seu restaurante preferido!!', 'Nem sabia q existia essa diferença entre os MCs ..... Top o video !!👏👏', 'e cadê minha coquinha ein???', 'GARANTA AS SUAS BARRINHAS DA BOLD COM 10% OFF CLICANDO NO LINK DA MINHA BIO! 😍', 'avalia o bobs na proxima', 'slc esse segundo mc eu nunca fui', '🍔', 'Bk eh melhor', 'Mc Donald’s só é 5 estrelas, quando tem Pokemon no Mc Lanche Feliz. \\nBeijos.', 'slk mczinho deixou a desejar', 'Top 😂👏'], 'timestamp': '2024-07-26T15:00:00+0000'}, {'media_id': '18017206481183008', 'caption': 'Eu Me Tranquei Nesse Quarto! 😱', 'comentarios': ['kkkk eu já iria começar pela soneca 😂😂😂😂', 'Se nao dormisse nao perderia a hs 😂😂', 'só vc msm', '😂😂', 'só dormeeee', 'sem noção!!', 'A soneca te lascou kkkk', 'Ocio criativo!😂', '😮😮😮😮', 'Irmão até o fim do ano o milhão vem, seu conteúdo tá fod@@@ ❤️🔥', 'eu nao me trancaria no quarto do vasco', 'louco sempre foi né', '😂😂😂', 'Caramba, muito massa', 'A soneca te fudeu'], 'timestamp': '2024-07-24T15:00:00+0000'}]\n"
          ]
        },
        {
          "output_type": "stream",
          "name": "stderr",
          "text": [
            "<ipython-input-8-34a78c349540>:11: UserWarning: Glyph 129401 (\\N{FACE HOLDING BACK TEARS}) missing from font(s) DejaVu Sans.\n",
            "  plt.savefig(caminho)\n",
            "<ipython-input-8-34a78c349540>:11: UserWarning: Glyph 129322 (\\N{GRINNING FACE WITH ONE LARGE AND ONE SMALL EYE}) missing from font(s) DejaVu Sans.\n",
            "  plt.savefig(caminho)\n",
            "<ipython-input-8-34a78c349540>:11: UserWarning: Glyph 129318 (\\N{FACE PALM}) missing from font(s) DejaVu Sans.\n",
            "  plt.savefig(caminho)\n",
            "<ipython-input-8-34a78c349540>:11: UserWarning: Glyph 127995 (\\N{EMOJI MODIFIER FITZPATRICK TYPE-1-2}) missing from font(s) DejaVu Sans.\n",
            "  plt.savefig(caminho)\n",
            "<ipython-input-8-34a78c349540>:11: UserWarning: Glyph 128587 (\\N{HAPPY PERSON RAISING ONE HAND}) missing from font(s) DejaVu Sans.\n",
            "  plt.savefig(caminho)\n",
            "<ipython-input-8-34a78c349540>:11: UserWarning: Glyph 127828 (\\N{HAMBURGER}) missing from font(s) DejaVu Sans.\n",
            "  plt.savefig(caminho)\n",
            "<ipython-input-8-34a78c349540>:11: UserWarning: Glyph 11088 (\\N{WHITE MEDIUM STAR}) missing from font(s) DejaVu Sans.\n",
            "  plt.savefig(caminho)\n"
          ]
        },
        {
          "output_type": "execute_result",
          "data": {
            "text/plain": [
              "''"
            ],
            "application/vnd.google.colaboratory.intrinsic+json": {
              "type": "string"
            }
          },
          "metadata": {},
          "execution_count": 13
        }
      ]
    }
  ],
  "metadata": {
    "colab": {
      "provenance": [],
      "gpuType": "T4",
      "include_colab_link": true
    },
    "kernelspec": {
      "display_name": "Python 3",
      "name": "python3"
    },
    "language_info": {
      "name": "python"
    },
    "accelerator": "GPU",
    "widgets": {
      "application/vnd.jupyter.widget-state+json": {
        "e28a984d3c1544069628fb915c20ee8f": {
          "model_module": "@jupyter-widgets/controls",
          "model_name": "HBoxModel",
          "model_module_version": "1.5.0",
          "state": {
            "_dom_classes": [],
            "_model_module": "@jupyter-widgets/controls",
            "_model_module_version": "1.5.0",
            "_model_name": "HBoxModel",
            "_view_count": null,
            "_view_module": "@jupyter-widgets/controls",
            "_view_module_version": "1.5.0",
            "_view_name": "HBoxView",
            "box_style": "",
            "children": [
              "IPY_MODEL_d67498d932b241c58d2996a9e5e51a87",
              "IPY_MODEL_d7bc828f8116483582710005cd0563eb",
              "IPY_MODEL_a3742f1e636048d699e81835d251d258"
            ],
            "layout": "IPY_MODEL_cbb77051d42c422a8dcbc0be6fa5419b"
          }
        },
        "d67498d932b241c58d2996a9e5e51a87": {
          "model_module": "@jupyter-widgets/controls",
          "model_name": "HTMLModel",
          "model_module_version": "1.5.0",
          "state": {
            "_dom_classes": [],
            "_model_module": "@jupyter-widgets/controls",
            "_model_module_version": "1.5.0",
            "_model_name": "HTMLModel",
            "_view_count": null,
            "_view_module": "@jupyter-widgets/controls",
            "_view_module_version": "1.5.0",
            "_view_name": "HTMLView",
            "description": "",
            "description_tooltip": null,
            "layout": "IPY_MODEL_44d90e2fa21d4c68a07e924b91e437ab",
            "placeholder": "​",
            "style": "IPY_MODEL_f6c2226e2b874bc1b9bf76ab241584f1",
            "value": "tokenizer_config.json: 100%"
          }
        },
        "d7bc828f8116483582710005cd0563eb": {
          "model_module": "@jupyter-widgets/controls",
          "model_name": "FloatProgressModel",
          "model_module_version": "1.5.0",
          "state": {
            "_dom_classes": [],
            "_model_module": "@jupyter-widgets/controls",
            "_model_module_version": "1.5.0",
            "_model_name": "FloatProgressModel",
            "_view_count": null,
            "_view_module": "@jupyter-widgets/controls",
            "_view_module_version": "1.5.0",
            "_view_name": "ProgressView",
            "bar_style": "success",
            "description": "",
            "description_tooltip": null,
            "layout": "IPY_MODEL_e79d0d87f71d4c6ab7708daa59931be1",
            "max": 43,
            "min": 0,
            "orientation": "horizontal",
            "style": "IPY_MODEL_1f74bd31b58846df80e089bb8d432ed1",
            "value": 43
          }
        },
        "a3742f1e636048d699e81835d251d258": {
          "model_module": "@jupyter-widgets/controls",
          "model_name": "HTMLModel",
          "model_module_version": "1.5.0",
          "state": {
            "_dom_classes": [],
            "_model_module": "@jupyter-widgets/controls",
            "_model_module_version": "1.5.0",
            "_model_name": "HTMLModel",
            "_view_count": null,
            "_view_module": "@jupyter-widgets/controls",
            "_view_module_version": "1.5.0",
            "_view_name": "HTMLView",
            "description": "",
            "description_tooltip": null,
            "layout": "IPY_MODEL_314f8c4038714cf18262db5b30e839f4",
            "placeholder": "​",
            "style": "IPY_MODEL_9c514d59ff494ac0b13b3b8856a8048c",
            "value": " 43.0/43.0 [00:00&lt;00:00, 2.36kB/s]"
          }
        },
        "cbb77051d42c422a8dcbc0be6fa5419b": {
          "model_module": "@jupyter-widgets/base",
          "model_name": "LayoutModel",
          "model_module_version": "1.2.0",
          "state": {
            "_model_module": "@jupyter-widgets/base",
            "_model_module_version": "1.2.0",
            "_model_name": "LayoutModel",
            "_view_count": null,
            "_view_module": "@jupyter-widgets/base",
            "_view_module_version": "1.2.0",
            "_view_name": "LayoutView",
            "align_content": null,
            "align_items": null,
            "align_self": null,
            "border": null,
            "bottom": null,
            "display": null,
            "flex": null,
            "flex_flow": null,
            "grid_area": null,
            "grid_auto_columns": null,
            "grid_auto_flow": null,
            "grid_auto_rows": null,
            "grid_column": null,
            "grid_gap": null,
            "grid_row": null,
            "grid_template_areas": null,
            "grid_template_columns": null,
            "grid_template_rows": null,
            "height": null,
            "justify_content": null,
            "justify_items": null,
            "left": null,
            "margin": null,
            "max_height": null,
            "max_width": null,
            "min_height": null,
            "min_width": null,
            "object_fit": null,
            "object_position": null,
            "order": null,
            "overflow": null,
            "overflow_x": null,
            "overflow_y": null,
            "padding": null,
            "right": null,
            "top": null,
            "visibility": null,
            "width": null
          }
        },
        "44d90e2fa21d4c68a07e924b91e437ab": {
          "model_module": "@jupyter-widgets/base",
          "model_name": "LayoutModel",
          "model_module_version": "1.2.0",
          "state": {
            "_model_module": "@jupyter-widgets/base",
            "_model_module_version": "1.2.0",
            "_model_name": "LayoutModel",
            "_view_count": null,
            "_view_module": "@jupyter-widgets/base",
            "_view_module_version": "1.2.0",
            "_view_name": "LayoutView",
            "align_content": null,
            "align_items": null,
            "align_self": null,
            "border": null,
            "bottom": null,
            "display": null,
            "flex": null,
            "flex_flow": null,
            "grid_area": null,
            "grid_auto_columns": null,
            "grid_auto_flow": null,
            "grid_auto_rows": null,
            "grid_column": null,
            "grid_gap": null,
            "grid_row": null,
            "grid_template_areas": null,
            "grid_template_columns": null,
            "grid_template_rows": null,
            "height": null,
            "justify_content": null,
            "justify_items": null,
            "left": null,
            "margin": null,
            "max_height": null,
            "max_width": null,
            "min_height": null,
            "min_width": null,
            "object_fit": null,
            "object_position": null,
            "order": null,
            "overflow": null,
            "overflow_x": null,
            "overflow_y": null,
            "padding": null,
            "right": null,
            "top": null,
            "visibility": null,
            "width": null
          }
        },
        "f6c2226e2b874bc1b9bf76ab241584f1": {
          "model_module": "@jupyter-widgets/controls",
          "model_name": "DescriptionStyleModel",
          "model_module_version": "1.5.0",
          "state": {
            "_model_module": "@jupyter-widgets/controls",
            "_model_module_version": "1.5.0",
            "_model_name": "DescriptionStyleModel",
            "_view_count": null,
            "_view_module": "@jupyter-widgets/base",
            "_view_module_version": "1.2.0",
            "_view_name": "StyleView",
            "description_width": ""
          }
        },
        "e79d0d87f71d4c6ab7708daa59931be1": {
          "model_module": "@jupyter-widgets/base",
          "model_name": "LayoutModel",
          "model_module_version": "1.2.0",
          "state": {
            "_model_module": "@jupyter-widgets/base",
            "_model_module_version": "1.2.0",
            "_model_name": "LayoutModel",
            "_view_count": null,
            "_view_module": "@jupyter-widgets/base",
            "_view_module_version": "1.2.0",
            "_view_name": "LayoutView",
            "align_content": null,
            "align_items": null,
            "align_self": null,
            "border": null,
            "bottom": null,
            "display": null,
            "flex": null,
            "flex_flow": null,
            "grid_area": null,
            "grid_auto_columns": null,
            "grid_auto_flow": null,
            "grid_auto_rows": null,
            "grid_column": null,
            "grid_gap": null,
            "grid_row": null,
            "grid_template_areas": null,
            "grid_template_columns": null,
            "grid_template_rows": null,
            "height": null,
            "justify_content": null,
            "justify_items": null,
            "left": null,
            "margin": null,
            "max_height": null,
            "max_width": null,
            "min_height": null,
            "min_width": null,
            "object_fit": null,
            "object_position": null,
            "order": null,
            "overflow": null,
            "overflow_x": null,
            "overflow_y": null,
            "padding": null,
            "right": null,
            "top": null,
            "visibility": null,
            "width": null
          }
        },
        "1f74bd31b58846df80e089bb8d432ed1": {
          "model_module": "@jupyter-widgets/controls",
          "model_name": "ProgressStyleModel",
          "model_module_version": "1.5.0",
          "state": {
            "_model_module": "@jupyter-widgets/controls",
            "_model_module_version": "1.5.0",
            "_model_name": "ProgressStyleModel",
            "_view_count": null,
            "_view_module": "@jupyter-widgets/base",
            "_view_module_version": "1.2.0",
            "_view_name": "StyleView",
            "bar_color": null,
            "description_width": ""
          }
        },
        "314f8c4038714cf18262db5b30e839f4": {
          "model_module": "@jupyter-widgets/base",
          "model_name": "LayoutModel",
          "model_module_version": "1.2.0",
          "state": {
            "_model_module": "@jupyter-widgets/base",
            "_model_module_version": "1.2.0",
            "_model_name": "LayoutModel",
            "_view_count": null,
            "_view_module": "@jupyter-widgets/base",
            "_view_module_version": "1.2.0",
            "_view_name": "LayoutView",
            "align_content": null,
            "align_items": null,
            "align_self": null,
            "border": null,
            "bottom": null,
            "display": null,
            "flex": null,
            "flex_flow": null,
            "grid_area": null,
            "grid_auto_columns": null,
            "grid_auto_flow": null,
            "grid_auto_rows": null,
            "grid_column": null,
            "grid_gap": null,
            "grid_row": null,
            "grid_template_areas": null,
            "grid_template_columns": null,
            "grid_template_rows": null,
            "height": null,
            "justify_content": null,
            "justify_items": null,
            "left": null,
            "margin": null,
            "max_height": null,
            "max_width": null,
            "min_height": null,
            "min_width": null,
            "object_fit": null,
            "object_position": null,
            "order": null,
            "overflow": null,
            "overflow_x": null,
            "overflow_y": null,
            "padding": null,
            "right": null,
            "top": null,
            "visibility": null,
            "width": null
          }
        },
        "9c514d59ff494ac0b13b3b8856a8048c": {
          "model_module": "@jupyter-widgets/controls",
          "model_name": "DescriptionStyleModel",
          "model_module_version": "1.5.0",
          "state": {
            "_model_module": "@jupyter-widgets/controls",
            "_model_module_version": "1.5.0",
            "_model_name": "DescriptionStyleModel",
            "_view_count": null,
            "_view_module": "@jupyter-widgets/base",
            "_view_module_version": "1.2.0",
            "_view_name": "StyleView",
            "description_width": ""
          }
        },
        "2f3cf00c9e2b41848b1f4e8df78fd8b3": {
          "model_module": "@jupyter-widgets/controls",
          "model_name": "HBoxModel",
          "model_module_version": "1.5.0",
          "state": {
            "_dom_classes": [],
            "_model_module": "@jupyter-widgets/controls",
            "_model_module_version": "1.5.0",
            "_model_name": "HBoxModel",
            "_view_count": null,
            "_view_module": "@jupyter-widgets/controls",
            "_view_module_version": "1.5.0",
            "_view_name": "HBoxView",
            "box_style": "",
            "children": [
              "IPY_MODEL_df8b8cc1e6034a578237a5aa3881b815",
              "IPY_MODEL_36935c16103d4b31b1fb2486e089a877",
              "IPY_MODEL_ee00d06e82f445609b95c70e416155a3"
            ],
            "layout": "IPY_MODEL_67f7fe1b4f454c5ebdc7b5598b46b72f"
          }
        },
        "df8b8cc1e6034a578237a5aa3881b815": {
          "model_module": "@jupyter-widgets/controls",
          "model_name": "HTMLModel",
          "model_module_version": "1.5.0",
          "state": {
            "_dom_classes": [],
            "_model_module": "@jupyter-widgets/controls",
            "_model_module_version": "1.5.0",
            "_model_name": "HTMLModel",
            "_view_count": null,
            "_view_module": "@jupyter-widgets/controls",
            "_view_module_version": "1.5.0",
            "_view_name": "HTMLView",
            "description": "",
            "description_tooltip": null,
            "layout": "IPY_MODEL_68ebc0393d90480a982dd98e75d7092a",
            "placeholder": "​",
            "style": "IPY_MODEL_a4773956ff6a48b38555d8158913a9bb",
            "value": "vocab.txt: 100%"
          }
        },
        "36935c16103d4b31b1fb2486e089a877": {
          "model_module": "@jupyter-widgets/controls",
          "model_name": "FloatProgressModel",
          "model_module_version": "1.5.0",
          "state": {
            "_dom_classes": [],
            "_model_module": "@jupyter-widgets/controls",
            "_model_module_version": "1.5.0",
            "_model_name": "FloatProgressModel",
            "_view_count": null,
            "_view_module": "@jupyter-widgets/controls",
            "_view_module_version": "1.5.0",
            "_view_name": "ProgressView",
            "bar_style": "success",
            "description": "",
            "description_tooltip": null,
            "layout": "IPY_MODEL_a394823379754f61bdedcc12b3aa0d0d",
            "max": 209528,
            "min": 0,
            "orientation": "horizontal",
            "style": "IPY_MODEL_e95a56522b484591ad8bb1728b65340e",
            "value": 209528
          }
        },
        "ee00d06e82f445609b95c70e416155a3": {
          "model_module": "@jupyter-widgets/controls",
          "model_name": "HTMLModel",
          "model_module_version": "1.5.0",
          "state": {
            "_dom_classes": [],
            "_model_module": "@jupyter-widgets/controls",
            "_model_module_version": "1.5.0",
            "_model_name": "HTMLModel",
            "_view_count": null,
            "_view_module": "@jupyter-widgets/controls",
            "_view_module_version": "1.5.0",
            "_view_name": "HTMLView",
            "description": "",
            "description_tooltip": null,
            "layout": "IPY_MODEL_d95d3da4e09b41e39699f0bed54ac0c1",
            "placeholder": "​",
            "style": "IPY_MODEL_fbca5c9271e444d0a3ad5d3d26fd5ff3",
            "value": " 210k/210k [00:00&lt;00:00, 4.93MB/s]"
          }
        },
        "67f7fe1b4f454c5ebdc7b5598b46b72f": {
          "model_module": "@jupyter-widgets/base",
          "model_name": "LayoutModel",
          "model_module_version": "1.2.0",
          "state": {
            "_model_module": "@jupyter-widgets/base",
            "_model_module_version": "1.2.0",
            "_model_name": "LayoutModel",
            "_view_count": null,
            "_view_module": "@jupyter-widgets/base",
            "_view_module_version": "1.2.0",
            "_view_name": "LayoutView",
            "align_content": null,
            "align_items": null,
            "align_self": null,
            "border": null,
            "bottom": null,
            "display": null,
            "flex": null,
            "flex_flow": null,
            "grid_area": null,
            "grid_auto_columns": null,
            "grid_auto_flow": null,
            "grid_auto_rows": null,
            "grid_column": null,
            "grid_gap": null,
            "grid_row": null,
            "grid_template_areas": null,
            "grid_template_columns": null,
            "grid_template_rows": null,
            "height": null,
            "justify_content": null,
            "justify_items": null,
            "left": null,
            "margin": null,
            "max_height": null,
            "max_width": null,
            "min_height": null,
            "min_width": null,
            "object_fit": null,
            "object_position": null,
            "order": null,
            "overflow": null,
            "overflow_x": null,
            "overflow_y": null,
            "padding": null,
            "right": null,
            "top": null,
            "visibility": null,
            "width": null
          }
        },
        "68ebc0393d90480a982dd98e75d7092a": {
          "model_module": "@jupyter-widgets/base",
          "model_name": "LayoutModel",
          "model_module_version": "1.2.0",
          "state": {
            "_model_module": "@jupyter-widgets/base",
            "_model_module_version": "1.2.0",
            "_model_name": "LayoutModel",
            "_view_count": null,
            "_view_module": "@jupyter-widgets/base",
            "_view_module_version": "1.2.0",
            "_view_name": "LayoutView",
            "align_content": null,
            "align_items": null,
            "align_self": null,
            "border": null,
            "bottom": null,
            "display": null,
            "flex": null,
            "flex_flow": null,
            "grid_area": null,
            "grid_auto_columns": null,
            "grid_auto_flow": null,
            "grid_auto_rows": null,
            "grid_column": null,
            "grid_gap": null,
            "grid_row": null,
            "grid_template_areas": null,
            "grid_template_columns": null,
            "grid_template_rows": null,
            "height": null,
            "justify_content": null,
            "justify_items": null,
            "left": null,
            "margin": null,
            "max_height": null,
            "max_width": null,
            "min_height": null,
            "min_width": null,
            "object_fit": null,
            "object_position": null,
            "order": null,
            "overflow": null,
            "overflow_x": null,
            "overflow_y": null,
            "padding": null,
            "right": null,
            "top": null,
            "visibility": null,
            "width": null
          }
        },
        "a4773956ff6a48b38555d8158913a9bb": {
          "model_module": "@jupyter-widgets/controls",
          "model_name": "DescriptionStyleModel",
          "model_module_version": "1.5.0",
          "state": {
            "_model_module": "@jupyter-widgets/controls",
            "_model_module_version": "1.5.0",
            "_model_name": "DescriptionStyleModel",
            "_view_count": null,
            "_view_module": "@jupyter-widgets/base",
            "_view_module_version": "1.2.0",
            "_view_name": "StyleView",
            "description_width": ""
          }
        },
        "a394823379754f61bdedcc12b3aa0d0d": {
          "model_module": "@jupyter-widgets/base",
          "model_name": "LayoutModel",
          "model_module_version": "1.2.0",
          "state": {
            "_model_module": "@jupyter-widgets/base",
            "_model_module_version": "1.2.0",
            "_model_name": "LayoutModel",
            "_view_count": null,
            "_view_module": "@jupyter-widgets/base",
            "_view_module_version": "1.2.0",
            "_view_name": "LayoutView",
            "align_content": null,
            "align_items": null,
            "align_self": null,
            "border": null,
            "bottom": null,
            "display": null,
            "flex": null,
            "flex_flow": null,
            "grid_area": null,
            "grid_auto_columns": null,
            "grid_auto_flow": null,
            "grid_auto_rows": null,
            "grid_column": null,
            "grid_gap": null,
            "grid_row": null,
            "grid_template_areas": null,
            "grid_template_columns": null,
            "grid_template_rows": null,
            "height": null,
            "justify_content": null,
            "justify_items": null,
            "left": null,
            "margin": null,
            "max_height": null,
            "max_width": null,
            "min_height": null,
            "min_width": null,
            "object_fit": null,
            "object_position": null,
            "order": null,
            "overflow": null,
            "overflow_x": null,
            "overflow_y": null,
            "padding": null,
            "right": null,
            "top": null,
            "visibility": null,
            "width": null
          }
        },
        "e95a56522b484591ad8bb1728b65340e": {
          "model_module": "@jupyter-widgets/controls",
          "model_name": "ProgressStyleModel",
          "model_module_version": "1.5.0",
          "state": {
            "_model_module": "@jupyter-widgets/controls",
            "_model_module_version": "1.5.0",
            "_model_name": "ProgressStyleModel",
            "_view_count": null,
            "_view_module": "@jupyter-widgets/base",
            "_view_module_version": "1.2.0",
            "_view_name": "StyleView",
            "bar_color": null,
            "description_width": ""
          }
        },
        "d95d3da4e09b41e39699f0bed54ac0c1": {
          "model_module": "@jupyter-widgets/base",
          "model_name": "LayoutModel",
          "model_module_version": "1.2.0",
          "state": {
            "_model_module": "@jupyter-widgets/base",
            "_model_module_version": "1.2.0",
            "_model_name": "LayoutModel",
            "_view_count": null,
            "_view_module": "@jupyter-widgets/base",
            "_view_module_version": "1.2.0",
            "_view_name": "LayoutView",
            "align_content": null,
            "align_items": null,
            "align_self": null,
            "border": null,
            "bottom": null,
            "display": null,
            "flex": null,
            "flex_flow": null,
            "grid_area": null,
            "grid_auto_columns": null,
            "grid_auto_flow": null,
            "grid_auto_rows": null,
            "grid_column": null,
            "grid_gap": null,
            "grid_row": null,
            "grid_template_areas": null,
            "grid_template_columns": null,
            "grid_template_rows": null,
            "height": null,
            "justify_content": null,
            "justify_items": null,
            "left": null,
            "margin": null,
            "max_height": null,
            "max_width": null,
            "min_height": null,
            "min_width": null,
            "object_fit": null,
            "object_position": null,
            "order": null,
            "overflow": null,
            "overflow_x": null,
            "overflow_y": null,
            "padding": null,
            "right": null,
            "top": null,
            "visibility": null,
            "width": null
          }
        },
        "fbca5c9271e444d0a3ad5d3d26fd5ff3": {
          "model_module": "@jupyter-widgets/controls",
          "model_name": "DescriptionStyleModel",
          "model_module_version": "1.5.0",
          "state": {
            "_model_module": "@jupyter-widgets/controls",
            "_model_module_version": "1.5.0",
            "_model_name": "DescriptionStyleModel",
            "_view_count": null,
            "_view_module": "@jupyter-widgets/base",
            "_view_module_version": "1.2.0",
            "_view_name": "StyleView",
            "description_width": ""
          }
        },
        "447ae2457464440e99ecfaaa5f794788": {
          "model_module": "@jupyter-widgets/controls",
          "model_name": "HBoxModel",
          "model_module_version": "1.5.0",
          "state": {
            "_dom_classes": [],
            "_model_module": "@jupyter-widgets/controls",
            "_model_module_version": "1.5.0",
            "_model_name": "HBoxModel",
            "_view_count": null,
            "_view_module": "@jupyter-widgets/controls",
            "_view_module_version": "1.5.0",
            "_view_name": "HBoxView",
            "box_style": "",
            "children": [
              "IPY_MODEL_892788047e3d4c7b8301ab607db8de23",
              "IPY_MODEL_ba2572c933e149a5b12800b59b4b84e4",
              "IPY_MODEL_555b7dedeac541be91d2c460b6d5840f"
            ],
            "layout": "IPY_MODEL_93d99a9c6f4b474f92180d82c5e3fdd5"
          }
        },
        "892788047e3d4c7b8301ab607db8de23": {
          "model_module": "@jupyter-widgets/controls",
          "model_name": "HTMLModel",
          "model_module_version": "1.5.0",
          "state": {
            "_dom_classes": [],
            "_model_module": "@jupyter-widgets/controls",
            "_model_module_version": "1.5.0",
            "_model_name": "HTMLModel",
            "_view_count": null,
            "_view_module": "@jupyter-widgets/controls",
            "_view_module_version": "1.5.0",
            "_view_name": "HTMLView",
            "description": "",
            "description_tooltip": null,
            "layout": "IPY_MODEL_e575e2373ee044098980148d410e1877",
            "placeholder": "​",
            "style": "IPY_MODEL_74f08cb1d9a747ffbd815ac708bfab6a",
            "value": "added_tokens.json: 100%"
          }
        },
        "ba2572c933e149a5b12800b59b4b84e4": {
          "model_module": "@jupyter-widgets/controls",
          "model_name": "FloatProgressModel",
          "model_module_version": "1.5.0",
          "state": {
            "_dom_classes": [],
            "_model_module": "@jupyter-widgets/controls",
            "_model_module_version": "1.5.0",
            "_model_name": "FloatProgressModel",
            "_view_count": null,
            "_view_module": "@jupyter-widgets/controls",
            "_view_module_version": "1.5.0",
            "_view_name": "ProgressView",
            "bar_style": "success",
            "description": "",
            "description_tooltip": null,
            "layout": "IPY_MODEL_a7147e05e1214e7597d682edffa21af9",
            "max": 2,
            "min": 0,
            "orientation": "horizontal",
            "style": "IPY_MODEL_1caf46aaa0fa49c789a4dfb30bd3d590",
            "value": 2
          }
        },
        "555b7dedeac541be91d2c460b6d5840f": {
          "model_module": "@jupyter-widgets/controls",
          "model_name": "HTMLModel",
          "model_module_version": "1.5.0",
          "state": {
            "_dom_classes": [],
            "_model_module": "@jupyter-widgets/controls",
            "_model_module_version": "1.5.0",
            "_model_name": "HTMLModel",
            "_view_count": null,
            "_view_module": "@jupyter-widgets/controls",
            "_view_module_version": "1.5.0",
            "_view_name": "HTMLView",
            "description": "",
            "description_tooltip": null,
            "layout": "IPY_MODEL_83450e9fc0b34ec7915bd42358bf22c5",
            "placeholder": "​",
            "style": "IPY_MODEL_7555e7c988d744b6bde33a952d3d5de8",
            "value": " 2.00/2.00 [00:00&lt;00:00, 76.9B/s]"
          }
        },
        "93d99a9c6f4b474f92180d82c5e3fdd5": {
          "model_module": "@jupyter-widgets/base",
          "model_name": "LayoutModel",
          "model_module_version": "1.2.0",
          "state": {
            "_model_module": "@jupyter-widgets/base",
            "_model_module_version": "1.2.0",
            "_model_name": "LayoutModel",
            "_view_count": null,
            "_view_module": "@jupyter-widgets/base",
            "_view_module_version": "1.2.0",
            "_view_name": "LayoutView",
            "align_content": null,
            "align_items": null,
            "align_self": null,
            "border": null,
            "bottom": null,
            "display": null,
            "flex": null,
            "flex_flow": null,
            "grid_area": null,
            "grid_auto_columns": null,
            "grid_auto_flow": null,
            "grid_auto_rows": null,
            "grid_column": null,
            "grid_gap": null,
            "grid_row": null,
            "grid_template_areas": null,
            "grid_template_columns": null,
            "grid_template_rows": null,
            "height": null,
            "justify_content": null,
            "justify_items": null,
            "left": null,
            "margin": null,
            "max_height": null,
            "max_width": null,
            "min_height": null,
            "min_width": null,
            "object_fit": null,
            "object_position": null,
            "order": null,
            "overflow": null,
            "overflow_x": null,
            "overflow_y": null,
            "padding": null,
            "right": null,
            "top": null,
            "visibility": null,
            "width": null
          }
        },
        "e575e2373ee044098980148d410e1877": {
          "model_module": "@jupyter-widgets/base",
          "model_name": "LayoutModel",
          "model_module_version": "1.2.0",
          "state": {
            "_model_module": "@jupyter-widgets/base",
            "_model_module_version": "1.2.0",
            "_model_name": "LayoutModel",
            "_view_count": null,
            "_view_module": "@jupyter-widgets/base",
            "_view_module_version": "1.2.0",
            "_view_name": "LayoutView",
            "align_content": null,
            "align_items": null,
            "align_self": null,
            "border": null,
            "bottom": null,
            "display": null,
            "flex": null,
            "flex_flow": null,
            "grid_area": null,
            "grid_auto_columns": null,
            "grid_auto_flow": null,
            "grid_auto_rows": null,
            "grid_column": null,
            "grid_gap": null,
            "grid_row": null,
            "grid_template_areas": null,
            "grid_template_columns": null,
            "grid_template_rows": null,
            "height": null,
            "justify_content": null,
            "justify_items": null,
            "left": null,
            "margin": null,
            "max_height": null,
            "max_width": null,
            "min_height": null,
            "min_width": null,
            "object_fit": null,
            "object_position": null,
            "order": null,
            "overflow": null,
            "overflow_x": null,
            "overflow_y": null,
            "padding": null,
            "right": null,
            "top": null,
            "visibility": null,
            "width": null
          }
        },
        "74f08cb1d9a747ffbd815ac708bfab6a": {
          "model_module": "@jupyter-widgets/controls",
          "model_name": "DescriptionStyleModel",
          "model_module_version": "1.5.0",
          "state": {
            "_model_module": "@jupyter-widgets/controls",
            "_model_module_version": "1.5.0",
            "_model_name": "DescriptionStyleModel",
            "_view_count": null,
            "_view_module": "@jupyter-widgets/base",
            "_view_module_version": "1.2.0",
            "_view_name": "StyleView",
            "description_width": ""
          }
        },
        "a7147e05e1214e7597d682edffa21af9": {
          "model_module": "@jupyter-widgets/base",
          "model_name": "LayoutModel",
          "model_module_version": "1.2.0",
          "state": {
            "_model_module": "@jupyter-widgets/base",
            "_model_module_version": "1.2.0",
            "_model_name": "LayoutModel",
            "_view_count": null,
            "_view_module": "@jupyter-widgets/base",
            "_view_module_version": "1.2.0",
            "_view_name": "LayoutView",
            "align_content": null,
            "align_items": null,
            "align_self": null,
            "border": null,
            "bottom": null,
            "display": null,
            "flex": null,
            "flex_flow": null,
            "grid_area": null,
            "grid_auto_columns": null,
            "grid_auto_flow": null,
            "grid_auto_rows": null,
            "grid_column": null,
            "grid_gap": null,
            "grid_row": null,
            "grid_template_areas": null,
            "grid_template_columns": null,
            "grid_template_rows": null,
            "height": null,
            "justify_content": null,
            "justify_items": null,
            "left": null,
            "margin": null,
            "max_height": null,
            "max_width": null,
            "min_height": null,
            "min_width": null,
            "object_fit": null,
            "object_position": null,
            "order": null,
            "overflow": null,
            "overflow_x": null,
            "overflow_y": null,
            "padding": null,
            "right": null,
            "top": null,
            "visibility": null,
            "width": null
          }
        },
        "1caf46aaa0fa49c789a4dfb30bd3d590": {
          "model_module": "@jupyter-widgets/controls",
          "model_name": "ProgressStyleModel",
          "model_module_version": "1.5.0",
          "state": {
            "_model_module": "@jupyter-widgets/controls",
            "_model_module_version": "1.5.0",
            "_model_name": "ProgressStyleModel",
            "_view_count": null,
            "_view_module": "@jupyter-widgets/base",
            "_view_module_version": "1.2.0",
            "_view_name": "StyleView",
            "bar_color": null,
            "description_width": ""
          }
        },
        "83450e9fc0b34ec7915bd42358bf22c5": {
          "model_module": "@jupyter-widgets/base",
          "model_name": "LayoutModel",
          "model_module_version": "1.2.0",
          "state": {
            "_model_module": "@jupyter-widgets/base",
            "_model_module_version": "1.2.0",
            "_model_name": "LayoutModel",
            "_view_count": null,
            "_view_module": "@jupyter-widgets/base",
            "_view_module_version": "1.2.0",
            "_view_name": "LayoutView",
            "align_content": null,
            "align_items": null,
            "align_self": null,
            "border": null,
            "bottom": null,
            "display": null,
            "flex": null,
            "flex_flow": null,
            "grid_area": null,
            "grid_auto_columns": null,
            "grid_auto_flow": null,
            "grid_auto_rows": null,
            "grid_column": null,
            "grid_gap": null,
            "grid_row": null,
            "grid_template_areas": null,
            "grid_template_columns": null,
            "grid_template_rows": null,
            "height": null,
            "justify_content": null,
            "justify_items": null,
            "left": null,
            "margin": null,
            "max_height": null,
            "max_width": null,
            "min_height": null,
            "min_width": null,
            "object_fit": null,
            "object_position": null,
            "order": null,
            "overflow": null,
            "overflow_x": null,
            "overflow_y": null,
            "padding": null,
            "right": null,
            "top": null,
            "visibility": null,
            "width": null
          }
        },
        "7555e7c988d744b6bde33a952d3d5de8": {
          "model_module": "@jupyter-widgets/controls",
          "model_name": "DescriptionStyleModel",
          "model_module_version": "1.5.0",
          "state": {
            "_model_module": "@jupyter-widgets/controls",
            "_model_module_version": "1.5.0",
            "_model_name": "DescriptionStyleModel",
            "_view_count": null,
            "_view_module": "@jupyter-widgets/base",
            "_view_module_version": "1.2.0",
            "_view_name": "StyleView",
            "description_width": ""
          }
        },
        "843ea0dc7a0542ee819f1b122867bcc1": {
          "model_module": "@jupyter-widgets/controls",
          "model_name": "HBoxModel",
          "model_module_version": "1.5.0",
          "state": {
            "_dom_classes": [],
            "_model_module": "@jupyter-widgets/controls",
            "_model_module_version": "1.5.0",
            "_model_name": "HBoxModel",
            "_view_count": null,
            "_view_module": "@jupyter-widgets/controls",
            "_view_module_version": "1.5.0",
            "_view_name": "HBoxView",
            "box_style": "",
            "children": [
              "IPY_MODEL_6dcff862c06745f1826089f84cf8daee",
              "IPY_MODEL_08096814c0244370ba66a3c0d095bfca",
              "IPY_MODEL_d300996ffb7242f7bf08360fdc8c3a37"
            ],
            "layout": "IPY_MODEL_cc3a7c8ea08b48b38e2325c991e84926"
          }
        },
        "6dcff862c06745f1826089f84cf8daee": {
          "model_module": "@jupyter-widgets/controls",
          "model_name": "HTMLModel",
          "model_module_version": "1.5.0",
          "state": {
            "_dom_classes": [],
            "_model_module": "@jupyter-widgets/controls",
            "_model_module_version": "1.5.0",
            "_model_name": "HTMLModel",
            "_view_count": null,
            "_view_module": "@jupyter-widgets/controls",
            "_view_module_version": "1.5.0",
            "_view_name": "HTMLView",
            "description": "",
            "description_tooltip": null,
            "layout": "IPY_MODEL_f4f086c302af41569e066fc192a99d80",
            "placeholder": "​",
            "style": "IPY_MODEL_9f0bc3a4839e430aa9efac1d5320007d",
            "value": "special_tokens_map.json: 100%"
          }
        },
        "08096814c0244370ba66a3c0d095bfca": {
          "model_module": "@jupyter-widgets/controls",
          "model_name": "FloatProgressModel",
          "model_module_version": "1.5.0",
          "state": {
            "_dom_classes": [],
            "_model_module": "@jupyter-widgets/controls",
            "_model_module_version": "1.5.0",
            "_model_name": "FloatProgressModel",
            "_view_count": null,
            "_view_module": "@jupyter-widgets/controls",
            "_view_module_version": "1.5.0",
            "_view_name": "ProgressView",
            "bar_style": "success",
            "description": "",
            "description_tooltip": null,
            "layout": "IPY_MODEL_06d62010c329438ab7dd3d9e1ddba1c2",
            "max": 112,
            "min": 0,
            "orientation": "horizontal",
            "style": "IPY_MODEL_9414fe6bf67b4ded941cd48a2020b53e",
            "value": 112
          }
        },
        "d300996ffb7242f7bf08360fdc8c3a37": {
          "model_module": "@jupyter-widgets/controls",
          "model_name": "HTMLModel",
          "model_module_version": "1.5.0",
          "state": {
            "_dom_classes": [],
            "_model_module": "@jupyter-widgets/controls",
            "_model_module_version": "1.5.0",
            "_model_name": "HTMLModel",
            "_view_count": null,
            "_view_module": "@jupyter-widgets/controls",
            "_view_module_version": "1.5.0",
            "_view_name": "HTMLView",
            "description": "",
            "description_tooltip": null,
            "layout": "IPY_MODEL_bd7e9ded4c6e45f486887132b2321ea4",
            "placeholder": "​",
            "style": "IPY_MODEL_22b86c0b3ba54310ab26ab30f8f62e52",
            "value": " 112/112 [00:00&lt;00:00, 5.03kB/s]"
          }
        },
        "cc3a7c8ea08b48b38e2325c991e84926": {
          "model_module": "@jupyter-widgets/base",
          "model_name": "LayoutModel",
          "model_module_version": "1.2.0",
          "state": {
            "_model_module": "@jupyter-widgets/base",
            "_model_module_version": "1.2.0",
            "_model_name": "LayoutModel",
            "_view_count": null,
            "_view_module": "@jupyter-widgets/base",
            "_view_module_version": "1.2.0",
            "_view_name": "LayoutView",
            "align_content": null,
            "align_items": null,
            "align_self": null,
            "border": null,
            "bottom": null,
            "display": null,
            "flex": null,
            "flex_flow": null,
            "grid_area": null,
            "grid_auto_columns": null,
            "grid_auto_flow": null,
            "grid_auto_rows": null,
            "grid_column": null,
            "grid_gap": null,
            "grid_row": null,
            "grid_template_areas": null,
            "grid_template_columns": null,
            "grid_template_rows": null,
            "height": null,
            "justify_content": null,
            "justify_items": null,
            "left": null,
            "margin": null,
            "max_height": null,
            "max_width": null,
            "min_height": null,
            "min_width": null,
            "object_fit": null,
            "object_position": null,
            "order": null,
            "overflow": null,
            "overflow_x": null,
            "overflow_y": null,
            "padding": null,
            "right": null,
            "top": null,
            "visibility": null,
            "width": null
          }
        },
        "f4f086c302af41569e066fc192a99d80": {
          "model_module": "@jupyter-widgets/base",
          "model_name": "LayoutModel",
          "model_module_version": "1.2.0",
          "state": {
            "_model_module": "@jupyter-widgets/base",
            "_model_module_version": "1.2.0",
            "_model_name": "LayoutModel",
            "_view_count": null,
            "_view_module": "@jupyter-widgets/base",
            "_view_module_version": "1.2.0",
            "_view_name": "LayoutView",
            "align_content": null,
            "align_items": null,
            "align_self": null,
            "border": null,
            "bottom": null,
            "display": null,
            "flex": null,
            "flex_flow": null,
            "grid_area": null,
            "grid_auto_columns": null,
            "grid_auto_flow": null,
            "grid_auto_rows": null,
            "grid_column": null,
            "grid_gap": null,
            "grid_row": null,
            "grid_template_areas": null,
            "grid_template_columns": null,
            "grid_template_rows": null,
            "height": null,
            "justify_content": null,
            "justify_items": null,
            "left": null,
            "margin": null,
            "max_height": null,
            "max_width": null,
            "min_height": null,
            "min_width": null,
            "object_fit": null,
            "object_position": null,
            "order": null,
            "overflow": null,
            "overflow_x": null,
            "overflow_y": null,
            "padding": null,
            "right": null,
            "top": null,
            "visibility": null,
            "width": null
          }
        },
        "9f0bc3a4839e430aa9efac1d5320007d": {
          "model_module": "@jupyter-widgets/controls",
          "model_name": "DescriptionStyleModel",
          "model_module_version": "1.5.0",
          "state": {
            "_model_module": "@jupyter-widgets/controls",
            "_model_module_version": "1.5.0",
            "_model_name": "DescriptionStyleModel",
            "_view_count": null,
            "_view_module": "@jupyter-widgets/base",
            "_view_module_version": "1.2.0",
            "_view_name": "StyleView",
            "description_width": ""
          }
        },
        "06d62010c329438ab7dd3d9e1ddba1c2": {
          "model_module": "@jupyter-widgets/base",
          "model_name": "LayoutModel",
          "model_module_version": "1.2.0",
          "state": {
            "_model_module": "@jupyter-widgets/base",
            "_model_module_version": "1.2.0",
            "_model_name": "LayoutModel",
            "_view_count": null,
            "_view_module": "@jupyter-widgets/base",
            "_view_module_version": "1.2.0",
            "_view_name": "LayoutView",
            "align_content": null,
            "align_items": null,
            "align_self": null,
            "border": null,
            "bottom": null,
            "display": null,
            "flex": null,
            "flex_flow": null,
            "grid_area": null,
            "grid_auto_columns": null,
            "grid_auto_flow": null,
            "grid_auto_rows": null,
            "grid_column": null,
            "grid_gap": null,
            "grid_row": null,
            "grid_template_areas": null,
            "grid_template_columns": null,
            "grid_template_rows": null,
            "height": null,
            "justify_content": null,
            "justify_items": null,
            "left": null,
            "margin": null,
            "max_height": null,
            "max_width": null,
            "min_height": null,
            "min_width": null,
            "object_fit": null,
            "object_position": null,
            "order": null,
            "overflow": null,
            "overflow_x": null,
            "overflow_y": null,
            "padding": null,
            "right": null,
            "top": null,
            "visibility": null,
            "width": null
          }
        },
        "9414fe6bf67b4ded941cd48a2020b53e": {
          "model_module": "@jupyter-widgets/controls",
          "model_name": "ProgressStyleModel",
          "model_module_version": "1.5.0",
          "state": {
            "_model_module": "@jupyter-widgets/controls",
            "_model_module_version": "1.5.0",
            "_model_name": "ProgressStyleModel",
            "_view_count": null,
            "_view_module": "@jupyter-widgets/base",
            "_view_module_version": "1.2.0",
            "_view_name": "StyleView",
            "bar_color": null,
            "description_width": ""
          }
        },
        "bd7e9ded4c6e45f486887132b2321ea4": {
          "model_module": "@jupyter-widgets/base",
          "model_name": "LayoutModel",
          "model_module_version": "1.2.0",
          "state": {
            "_model_module": "@jupyter-widgets/base",
            "_model_module_version": "1.2.0",
            "_model_name": "LayoutModel",
            "_view_count": null,
            "_view_module": "@jupyter-widgets/base",
            "_view_module_version": "1.2.0",
            "_view_name": "LayoutView",
            "align_content": null,
            "align_items": null,
            "align_self": null,
            "border": null,
            "bottom": null,
            "display": null,
            "flex": null,
            "flex_flow": null,
            "grid_area": null,
            "grid_auto_columns": null,
            "grid_auto_flow": null,
            "grid_auto_rows": null,
            "grid_column": null,
            "grid_gap": null,
            "grid_row": null,
            "grid_template_areas": null,
            "grid_template_columns": null,
            "grid_template_rows": null,
            "height": null,
            "justify_content": null,
            "justify_items": null,
            "left": null,
            "margin": null,
            "max_height": null,
            "max_width": null,
            "min_height": null,
            "min_width": null,
            "object_fit": null,
            "object_position": null,
            "order": null,
            "overflow": null,
            "overflow_x": null,
            "overflow_y": null,
            "padding": null,
            "right": null,
            "top": null,
            "visibility": null,
            "width": null
          }
        },
        "22b86c0b3ba54310ab26ab30f8f62e52": {
          "model_module": "@jupyter-widgets/controls",
          "model_name": "DescriptionStyleModel",
          "model_module_version": "1.5.0",
          "state": {
            "_model_module": "@jupyter-widgets/controls",
            "_model_module_version": "1.5.0",
            "_model_name": "DescriptionStyleModel",
            "_view_count": null,
            "_view_module": "@jupyter-widgets/base",
            "_view_module_version": "1.2.0",
            "_view_name": "StyleView",
            "description_width": ""
          }
        },
        "aaeda315054b4e1981cbec3675b346f9": {
          "model_module": "@jupyter-widgets/controls",
          "model_name": "HBoxModel",
          "model_module_version": "1.5.0",
          "state": {
            "_dom_classes": [],
            "_model_module": "@jupyter-widgets/controls",
            "_model_module_version": "1.5.0",
            "_model_name": "HBoxModel",
            "_view_count": null,
            "_view_module": "@jupyter-widgets/controls",
            "_view_module_version": "1.5.0",
            "_view_name": "HBoxView",
            "box_style": "",
            "children": [
              "IPY_MODEL_8cd46d98d3194d829a66f6aa7418024b",
              "IPY_MODEL_f2c518b58c7b4fa3a15f2403155a41a5",
              "IPY_MODEL_79a5a88c7ae64a3fb6704ae0ced07931"
            ],
            "layout": "IPY_MODEL_b9c3f75684a94e0fb4e63000312c89ad"
          }
        },
        "8cd46d98d3194d829a66f6aa7418024b": {
          "model_module": "@jupyter-widgets/controls",
          "model_name": "HTMLModel",
          "model_module_version": "1.5.0",
          "state": {
            "_dom_classes": [],
            "_model_module": "@jupyter-widgets/controls",
            "_model_module_version": "1.5.0",
            "_model_name": "HTMLModel",
            "_view_count": null,
            "_view_module": "@jupyter-widgets/controls",
            "_view_module_version": "1.5.0",
            "_view_name": "HTMLView",
            "description": "",
            "description_tooltip": null,
            "layout": "IPY_MODEL_f220434283624846979465a1bd699b7e",
            "placeholder": "​",
            "style": "IPY_MODEL_3dc54f17a458483bbcd901602b00b9e5",
            "value": "config.json: 100%"
          }
        },
        "f2c518b58c7b4fa3a15f2403155a41a5": {
          "model_module": "@jupyter-widgets/controls",
          "model_name": "FloatProgressModel",
          "model_module_version": "1.5.0",
          "state": {
            "_dom_classes": [],
            "_model_module": "@jupyter-widgets/controls",
            "_model_module_version": "1.5.0",
            "_model_name": "FloatProgressModel",
            "_view_count": null,
            "_view_module": "@jupyter-widgets/controls",
            "_view_module_version": "1.5.0",
            "_view_name": "ProgressView",
            "bar_style": "success",
            "description": "",
            "description_tooltip": null,
            "layout": "IPY_MODEL_b1476da82452475bbeff1d0e82d23063",
            "max": 647,
            "min": 0,
            "orientation": "horizontal",
            "style": "IPY_MODEL_b03e8134006944cc970f157fcf657704",
            "value": 647
          }
        },
        "79a5a88c7ae64a3fb6704ae0ced07931": {
          "model_module": "@jupyter-widgets/controls",
          "model_name": "HTMLModel",
          "model_module_version": "1.5.0",
          "state": {
            "_dom_classes": [],
            "_model_module": "@jupyter-widgets/controls",
            "_model_module_version": "1.5.0",
            "_model_name": "HTMLModel",
            "_view_count": null,
            "_view_module": "@jupyter-widgets/controls",
            "_view_module_version": "1.5.0",
            "_view_name": "HTMLView",
            "description": "",
            "description_tooltip": null,
            "layout": "IPY_MODEL_ff8cb553238a47d4a8818abf265e80e6",
            "placeholder": "​",
            "style": "IPY_MODEL_14f0278270234583829827b2a54b12fc",
            "value": " 647/647 [00:00&lt;00:00, 19.7kB/s]"
          }
        },
        "b9c3f75684a94e0fb4e63000312c89ad": {
          "model_module": "@jupyter-widgets/base",
          "model_name": "LayoutModel",
          "model_module_version": "1.2.0",
          "state": {
            "_model_module": "@jupyter-widgets/base",
            "_model_module_version": "1.2.0",
            "_model_name": "LayoutModel",
            "_view_count": null,
            "_view_module": "@jupyter-widgets/base",
            "_view_module_version": "1.2.0",
            "_view_name": "LayoutView",
            "align_content": null,
            "align_items": null,
            "align_self": null,
            "border": null,
            "bottom": null,
            "display": null,
            "flex": null,
            "flex_flow": null,
            "grid_area": null,
            "grid_auto_columns": null,
            "grid_auto_flow": null,
            "grid_auto_rows": null,
            "grid_column": null,
            "grid_gap": null,
            "grid_row": null,
            "grid_template_areas": null,
            "grid_template_columns": null,
            "grid_template_rows": null,
            "height": null,
            "justify_content": null,
            "justify_items": null,
            "left": null,
            "margin": null,
            "max_height": null,
            "max_width": null,
            "min_height": null,
            "min_width": null,
            "object_fit": null,
            "object_position": null,
            "order": null,
            "overflow": null,
            "overflow_x": null,
            "overflow_y": null,
            "padding": null,
            "right": null,
            "top": null,
            "visibility": null,
            "width": null
          }
        },
        "f220434283624846979465a1bd699b7e": {
          "model_module": "@jupyter-widgets/base",
          "model_name": "LayoutModel",
          "model_module_version": "1.2.0",
          "state": {
            "_model_module": "@jupyter-widgets/base",
            "_model_module_version": "1.2.0",
            "_model_name": "LayoutModel",
            "_view_count": null,
            "_view_module": "@jupyter-widgets/base",
            "_view_module_version": "1.2.0",
            "_view_name": "LayoutView",
            "align_content": null,
            "align_items": null,
            "align_self": null,
            "border": null,
            "bottom": null,
            "display": null,
            "flex": null,
            "flex_flow": null,
            "grid_area": null,
            "grid_auto_columns": null,
            "grid_auto_flow": null,
            "grid_auto_rows": null,
            "grid_column": null,
            "grid_gap": null,
            "grid_row": null,
            "grid_template_areas": null,
            "grid_template_columns": null,
            "grid_template_rows": null,
            "height": null,
            "justify_content": null,
            "justify_items": null,
            "left": null,
            "margin": null,
            "max_height": null,
            "max_width": null,
            "min_height": null,
            "min_width": null,
            "object_fit": null,
            "object_position": null,
            "order": null,
            "overflow": null,
            "overflow_x": null,
            "overflow_y": null,
            "padding": null,
            "right": null,
            "top": null,
            "visibility": null,
            "width": null
          }
        },
        "3dc54f17a458483bbcd901602b00b9e5": {
          "model_module": "@jupyter-widgets/controls",
          "model_name": "DescriptionStyleModel",
          "model_module_version": "1.5.0",
          "state": {
            "_model_module": "@jupyter-widgets/controls",
            "_model_module_version": "1.5.0",
            "_model_name": "DescriptionStyleModel",
            "_view_count": null,
            "_view_module": "@jupyter-widgets/base",
            "_view_module_version": "1.2.0",
            "_view_name": "StyleView",
            "description_width": ""
          }
        },
        "b1476da82452475bbeff1d0e82d23063": {
          "model_module": "@jupyter-widgets/base",
          "model_name": "LayoutModel",
          "model_module_version": "1.2.0",
          "state": {
            "_model_module": "@jupyter-widgets/base",
            "_model_module_version": "1.2.0",
            "_model_name": "LayoutModel",
            "_view_count": null,
            "_view_module": "@jupyter-widgets/base",
            "_view_module_version": "1.2.0",
            "_view_name": "LayoutView",
            "align_content": null,
            "align_items": null,
            "align_self": null,
            "border": null,
            "bottom": null,
            "display": null,
            "flex": null,
            "flex_flow": null,
            "grid_area": null,
            "grid_auto_columns": null,
            "grid_auto_flow": null,
            "grid_auto_rows": null,
            "grid_column": null,
            "grid_gap": null,
            "grid_row": null,
            "grid_template_areas": null,
            "grid_template_columns": null,
            "grid_template_rows": null,
            "height": null,
            "justify_content": null,
            "justify_items": null,
            "left": null,
            "margin": null,
            "max_height": null,
            "max_width": null,
            "min_height": null,
            "min_width": null,
            "object_fit": null,
            "object_position": null,
            "order": null,
            "overflow": null,
            "overflow_x": null,
            "overflow_y": null,
            "padding": null,
            "right": null,
            "top": null,
            "visibility": null,
            "width": null
          }
        },
        "b03e8134006944cc970f157fcf657704": {
          "model_module": "@jupyter-widgets/controls",
          "model_name": "ProgressStyleModel",
          "model_module_version": "1.5.0",
          "state": {
            "_model_module": "@jupyter-widgets/controls",
            "_model_module_version": "1.5.0",
            "_model_name": "ProgressStyleModel",
            "_view_count": null,
            "_view_module": "@jupyter-widgets/base",
            "_view_module_version": "1.2.0",
            "_view_name": "StyleView",
            "bar_color": null,
            "description_width": ""
          }
        },
        "ff8cb553238a47d4a8818abf265e80e6": {
          "model_module": "@jupyter-widgets/base",
          "model_name": "LayoutModel",
          "model_module_version": "1.2.0",
          "state": {
            "_model_module": "@jupyter-widgets/base",
            "_model_module_version": "1.2.0",
            "_model_name": "LayoutModel",
            "_view_count": null,
            "_view_module": "@jupyter-widgets/base",
            "_view_module_version": "1.2.0",
            "_view_name": "LayoutView",
            "align_content": null,
            "align_items": null,
            "align_self": null,
            "border": null,
            "bottom": null,
            "display": null,
            "flex": null,
            "flex_flow": null,
            "grid_area": null,
            "grid_auto_columns": null,
            "grid_auto_flow": null,
            "grid_auto_rows": null,
            "grid_column": null,
            "grid_gap": null,
            "grid_row": null,
            "grid_template_areas": null,
            "grid_template_columns": null,
            "grid_template_rows": null,
            "height": null,
            "justify_content": null,
            "justify_items": null,
            "left": null,
            "margin": null,
            "max_height": null,
            "max_width": null,
            "min_height": null,
            "min_width": null,
            "object_fit": null,
            "object_position": null,
            "order": null,
            "overflow": null,
            "overflow_x": null,
            "overflow_y": null,
            "padding": null,
            "right": null,
            "top": null,
            "visibility": null,
            "width": null
          }
        },
        "14f0278270234583829827b2a54b12fc": {
          "model_module": "@jupyter-widgets/controls",
          "model_name": "DescriptionStyleModel",
          "model_module_version": "1.5.0",
          "state": {
            "_model_module": "@jupyter-widgets/controls",
            "_model_module_version": "1.5.0",
            "_model_name": "DescriptionStyleModel",
            "_view_count": null,
            "_view_module": "@jupyter-widgets/base",
            "_view_module_version": "1.2.0",
            "_view_name": "StyleView",
            "description_width": ""
          }
        },
        "fba6385fcae54faf9d1733c7656cb7f9": {
          "model_module": "@jupyter-widgets/controls",
          "model_name": "HBoxModel",
          "model_module_version": "1.5.0",
          "state": {
            "_dom_classes": [],
            "_model_module": "@jupyter-widgets/controls",
            "_model_module_version": "1.5.0",
            "_model_name": "HBoxModel",
            "_view_count": null,
            "_view_module": "@jupyter-widgets/controls",
            "_view_module_version": "1.5.0",
            "_view_name": "HBoxView",
            "box_style": "",
            "children": [
              "IPY_MODEL_5bb0ab91ea444b13977f424bfd42fb81",
              "IPY_MODEL_18cfef4fa9294c3ab1169185987d256f",
              "IPY_MODEL_ac0a572ff9454c74b0d1cc19fb017865"
            ],
            "layout": "IPY_MODEL_e7e30b5c7b2e4206893c71d544332a04"
          }
        },
        "5bb0ab91ea444b13977f424bfd42fb81": {
          "model_module": "@jupyter-widgets/controls",
          "model_name": "HTMLModel",
          "model_module_version": "1.5.0",
          "state": {
            "_dom_classes": [],
            "_model_module": "@jupyter-widgets/controls",
            "_model_module_version": "1.5.0",
            "_model_name": "HTMLModel",
            "_view_count": null,
            "_view_module": "@jupyter-widgets/controls",
            "_view_module_version": "1.5.0",
            "_view_name": "HTMLView",
            "description": "",
            "description_tooltip": null,
            "layout": "IPY_MODEL_c9c8c17d9d36496f8289e5df963ed885",
            "placeholder": "​",
            "style": "IPY_MODEL_3e2cb63a484949e1b80ad774ebe7d8da",
            "value": "pytorch_model.bin: 100%"
          }
        },
        "18cfef4fa9294c3ab1169185987d256f": {
          "model_module": "@jupyter-widgets/controls",
          "model_name": "FloatProgressModel",
          "model_module_version": "1.5.0",
          "state": {
            "_dom_classes": [],
            "_model_module": "@jupyter-widgets/controls",
            "_model_module_version": "1.5.0",
            "_model_name": "FloatProgressModel",
            "_view_count": null,
            "_view_module": "@jupyter-widgets/controls",
            "_view_module_version": "1.5.0",
            "_view_name": "ProgressView",
            "bar_style": "success",
            "description": "",
            "description_tooltip": null,
            "layout": "IPY_MODEL_c35e04238305475ca4bbcbfcf137960c",
            "max": 438235074,
            "min": 0,
            "orientation": "horizontal",
            "style": "IPY_MODEL_3e227b64a5cb410bae156386eb70b945",
            "value": 438235074
          }
        },
        "ac0a572ff9454c74b0d1cc19fb017865": {
          "model_module": "@jupyter-widgets/controls",
          "model_name": "HTMLModel",
          "model_module_version": "1.5.0",
          "state": {
            "_dom_classes": [],
            "_model_module": "@jupyter-widgets/controls",
            "_model_module_version": "1.5.0",
            "_model_name": "HTMLModel",
            "_view_count": null,
            "_view_module": "@jupyter-widgets/controls",
            "_view_module_version": "1.5.0",
            "_view_name": "HTMLView",
            "description": "",
            "description_tooltip": null,
            "layout": "IPY_MODEL_5c94158aff98442090bcc2fd0e581b38",
            "placeholder": "​",
            "style": "IPY_MODEL_bbf4757ce5404226b8189e01ffab3661",
            "value": " 438M/438M [00:20&lt;00:00, 22.3MB/s]"
          }
        },
        "e7e30b5c7b2e4206893c71d544332a04": {
          "model_module": "@jupyter-widgets/base",
          "model_name": "LayoutModel",
          "model_module_version": "1.2.0",
          "state": {
            "_model_module": "@jupyter-widgets/base",
            "_model_module_version": "1.2.0",
            "_model_name": "LayoutModel",
            "_view_count": null,
            "_view_module": "@jupyter-widgets/base",
            "_view_module_version": "1.2.0",
            "_view_name": "LayoutView",
            "align_content": null,
            "align_items": null,
            "align_self": null,
            "border": null,
            "bottom": null,
            "display": null,
            "flex": null,
            "flex_flow": null,
            "grid_area": null,
            "grid_auto_columns": null,
            "grid_auto_flow": null,
            "grid_auto_rows": null,
            "grid_column": null,
            "grid_gap": null,
            "grid_row": null,
            "grid_template_areas": null,
            "grid_template_columns": null,
            "grid_template_rows": null,
            "height": null,
            "justify_content": null,
            "justify_items": null,
            "left": null,
            "margin": null,
            "max_height": null,
            "max_width": null,
            "min_height": null,
            "min_width": null,
            "object_fit": null,
            "object_position": null,
            "order": null,
            "overflow": null,
            "overflow_x": null,
            "overflow_y": null,
            "padding": null,
            "right": null,
            "top": null,
            "visibility": null,
            "width": null
          }
        },
        "c9c8c17d9d36496f8289e5df963ed885": {
          "model_module": "@jupyter-widgets/base",
          "model_name": "LayoutModel",
          "model_module_version": "1.2.0",
          "state": {
            "_model_module": "@jupyter-widgets/base",
            "_model_module_version": "1.2.0",
            "_model_name": "LayoutModel",
            "_view_count": null,
            "_view_module": "@jupyter-widgets/base",
            "_view_module_version": "1.2.0",
            "_view_name": "LayoutView",
            "align_content": null,
            "align_items": null,
            "align_self": null,
            "border": null,
            "bottom": null,
            "display": null,
            "flex": null,
            "flex_flow": null,
            "grid_area": null,
            "grid_auto_columns": null,
            "grid_auto_flow": null,
            "grid_auto_rows": null,
            "grid_column": null,
            "grid_gap": null,
            "grid_row": null,
            "grid_template_areas": null,
            "grid_template_columns": null,
            "grid_template_rows": null,
            "height": null,
            "justify_content": null,
            "justify_items": null,
            "left": null,
            "margin": null,
            "max_height": null,
            "max_width": null,
            "min_height": null,
            "min_width": null,
            "object_fit": null,
            "object_position": null,
            "order": null,
            "overflow": null,
            "overflow_x": null,
            "overflow_y": null,
            "padding": null,
            "right": null,
            "top": null,
            "visibility": null,
            "width": null
          }
        },
        "3e2cb63a484949e1b80ad774ebe7d8da": {
          "model_module": "@jupyter-widgets/controls",
          "model_name": "DescriptionStyleModel",
          "model_module_version": "1.5.0",
          "state": {
            "_model_module": "@jupyter-widgets/controls",
            "_model_module_version": "1.5.0",
            "_model_name": "DescriptionStyleModel",
            "_view_count": null,
            "_view_module": "@jupyter-widgets/base",
            "_view_module_version": "1.2.0",
            "_view_name": "StyleView",
            "description_width": ""
          }
        },
        "c35e04238305475ca4bbcbfcf137960c": {
          "model_module": "@jupyter-widgets/base",
          "model_name": "LayoutModel",
          "model_module_version": "1.2.0",
          "state": {
            "_model_module": "@jupyter-widgets/base",
            "_model_module_version": "1.2.0",
            "_model_name": "LayoutModel",
            "_view_count": null,
            "_view_module": "@jupyter-widgets/base",
            "_view_module_version": "1.2.0",
            "_view_name": "LayoutView",
            "align_content": null,
            "align_items": null,
            "align_self": null,
            "border": null,
            "bottom": null,
            "display": null,
            "flex": null,
            "flex_flow": null,
            "grid_area": null,
            "grid_auto_columns": null,
            "grid_auto_flow": null,
            "grid_auto_rows": null,
            "grid_column": null,
            "grid_gap": null,
            "grid_row": null,
            "grid_template_areas": null,
            "grid_template_columns": null,
            "grid_template_rows": null,
            "height": null,
            "justify_content": null,
            "justify_items": null,
            "left": null,
            "margin": null,
            "max_height": null,
            "max_width": null,
            "min_height": null,
            "min_width": null,
            "object_fit": null,
            "object_position": null,
            "order": null,
            "overflow": null,
            "overflow_x": null,
            "overflow_y": null,
            "padding": null,
            "right": null,
            "top": null,
            "visibility": null,
            "width": null
          }
        },
        "3e227b64a5cb410bae156386eb70b945": {
          "model_module": "@jupyter-widgets/controls",
          "model_name": "ProgressStyleModel",
          "model_module_version": "1.5.0",
          "state": {
            "_model_module": "@jupyter-widgets/controls",
            "_model_module_version": "1.5.0",
            "_model_name": "ProgressStyleModel",
            "_view_count": null,
            "_view_module": "@jupyter-widgets/base",
            "_view_module_version": "1.2.0",
            "_view_name": "StyleView",
            "bar_color": null,
            "description_width": ""
          }
        },
        "5c94158aff98442090bcc2fd0e581b38": {
          "model_module": "@jupyter-widgets/base",
          "model_name": "LayoutModel",
          "model_module_version": "1.2.0",
          "state": {
            "_model_module": "@jupyter-widgets/base",
            "_model_module_version": "1.2.0",
            "_model_name": "LayoutModel",
            "_view_count": null,
            "_view_module": "@jupyter-widgets/base",
            "_view_module_version": "1.2.0",
            "_view_name": "LayoutView",
            "align_content": null,
            "align_items": null,
            "align_self": null,
            "border": null,
            "bottom": null,
            "display": null,
            "flex": null,
            "flex_flow": null,
            "grid_area": null,
            "grid_auto_columns": null,
            "grid_auto_flow": null,
            "grid_auto_rows": null,
            "grid_column": null,
            "grid_gap": null,
            "grid_row": null,
            "grid_template_areas": null,
            "grid_template_columns": null,
            "grid_template_rows": null,
            "height": null,
            "justify_content": null,
            "justify_items": null,
            "left": null,
            "margin": null,
            "max_height": null,
            "max_width": null,
            "min_height": null,
            "min_width": null,
            "object_fit": null,
            "object_position": null,
            "order": null,
            "overflow": null,
            "overflow_x": null,
            "overflow_y": null,
            "padding": null,
            "right": null,
            "top": null,
            "visibility": null,
            "width": null
          }
        },
        "bbf4757ce5404226b8189e01ffab3661": {
          "model_module": "@jupyter-widgets/controls",
          "model_name": "DescriptionStyleModel",
          "model_module_version": "1.5.0",
          "state": {
            "_model_module": "@jupyter-widgets/controls",
            "_model_module_version": "1.5.0",
            "_model_name": "DescriptionStyleModel",
            "_view_count": null,
            "_view_module": "@jupyter-widgets/base",
            "_view_module_version": "1.2.0",
            "_view_name": "StyleView",
            "description_width": ""
          }
        }
      }
    }
  },
  "nbformat": 4,
  "nbformat_minor": 0
}